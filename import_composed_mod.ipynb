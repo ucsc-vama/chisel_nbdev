{
 "cells": [
  {
   "cell_type": "markdown",
   "metadata": {},
   "source": [
    "This is the top level module, that imports -> import_chisel_mod which imports -> ToImport. This collection of notebooks and .sc files are meant to demonstrate how to do chisel development in a notebook environment, particularly how to import the modules implemented in one notebook to another."
   ]
  },
  {
   "cell_type": "code",
   "execution_count": 2,
   "metadata": {},
   "outputs": [
    {
     "name": "stderr",
     "output_type": "stream",
     "text": [
      "cmd2.sc:20: object load_ivy is not a member of package ammonite.$sess\n",
      "final val load_ivy: _root_.ammonite.$sess.load_ivy.instance.type = if (__amm_usedThings(\"\"\"load_ivy\"\"\")) _root_.ammonite.$sess.load_ivy.instance else null\n",
      "                                          ^cmd2.sc:20: object load_ivy is not a member of package ammonite.$sess\n",
      "final val load_ivy: _root_.ammonite.$sess.load_ivy.instance.type = if (__amm_usedThings(\"\"\"load_ivy\"\"\")) _root_.ammonite.$sess.load_ivy.instance else null\n",
      "                                                                                                                               ^Compilation Failed"
     ]
    },
    {
     "ename": "",
     "evalue": "",
     "output_type": "error",
     "traceback": [
      "Compilation Failed"
     ]
    }
   ],
   "source": [
    "// val path = System.getProperty(\"user.dir\") + \"/source/load_ivy.sc\"\n",
    "// interp.load.module(ammonite.ops.Path(java.nio.file.FileSystems.getDefault().getPath(path)))\n",
    "import $file.source.load_ivy, load_ivy._\n",
    "load_ivy.getClass.getMethods"
   ]
  },
  {
   "cell_type": "code",
   "execution_count": 2,
   "metadata": {},
   "outputs": [
    {
     "data": {
      "text/plain": [
       "\u001b[32mimport \u001b[39m\u001b[36mchisel3.{Input => Input}\n",
       "\u001b[39m\n",
       "\u001b[32mimport \u001b[39m\u001b[36mchisel3._\n",
       "\u001b[39m\n",
       "\u001b[32mimport \u001b[39m\u001b[36mchisel3.util._\n",
       "\u001b[39m\n",
       "\u001b[32mimport \u001b[39m\u001b[36mchisel3.tester._\n",
       "\u001b[39m\n",
       "\u001b[32mimport \u001b[39m\u001b[36mchisel3.iotesters.{ChiselFlatSpec, Driver, PeekPokeTester}\n",
       "\u001b[39m\n",
       "\u001b[32mimport \u001b[39m\u001b[36mchisel3.tester.RawTester.test\u001b[39m"
      ]
     },
     "execution_count": 2,
     "metadata": {},
     "output_type": "execute_result"
    }
   ],
   "source": [
    "import chisel3.{Input => Input}\n",
    "import chisel3._\n",
    "import chisel3.util._\n",
    "import chisel3.tester._\n",
    "import chisel3.iotesters.{ChiselFlatSpec, Driver, PeekPokeTester}\n",
    "import chisel3.tester.RawTester.test"
   ]
  },
  {
   "cell_type": "code",
   "execution_count": 3,
   "metadata": {},
   "outputs": [
    {
     "name": "stdout",
     "output_type": "stream",
     "text": [
      "Compiling /Users/jasonvranek/code/notebooks/chisel-nbdev/ToImport.scCompiling /Users/jasonvranek/code/notebooks/chisel-nbdev/import_chisel_mod.sc[\u001b[35minfo\u001b[0m] [0.001] Elaborating design...\n",
      "[\u001b[35minfo\u001b[0m] [1.328] Done elaborating.\n",
      "file loaded in 0.033208916 seconds, 7 symbols, 3 statements\n",
      "test Add Success: 0 tests passed in 4 cycles in 0.057671 seconds 69.36 Hz\n",
      "[\u001b[35minfo\u001b[0m] [0.000] Elaborating design...\n",
      "[\u001b[35minfo\u001b[0m] [0.179] Done elaborating.\n",
      "file loaded in 0.009285083 seconds, 13 symbols, 7 statements\n",
      "test ComposedModule Success: 0 tests passed in 4 cycles in 0.010814 seconds 369.90 Hz\n"
     ]
    },
    {
     "data": {
      "text/plain": [
       "\u001b[32mimport \u001b[39m\u001b[36m$file.$                , import_chisel_mod._\u001b[39m"
      ]
     },
     "execution_count": 3,
     "metadata": {},
     "output_type": "execute_result"
    }
   ],
   "source": [
    "import $file.import_chisel_mod, import_chisel_mod._"
   ]
  },
  {
   "cell_type": "code",
   "execution_count": 4,
   "metadata": {},
   "outputs": [
    {
     "name": "stdout",
     "output_type": "stream",
     "text": [
      "[\u001b[35minfo\u001b[0m] [0.000] Elaborating design...\n",
      "[\u001b[35minfo\u001b[0m] [0.141] Done elaborating.\n",
      "file loaded in 0.004933292 seconds, 6 symbols, 3 statements\n",
      "test DoubleComposedMod Success: 0 tests passed in 4 cycles in 0.007257 seconds 551.17 Hz\n"
     ]
    },
    {
     "data": {
      "text/plain": [
       "defined \u001b[32mclass\u001b[39m \u001b[36mDoubleComposedMod\u001b[39m"
      ]
     },
     "execution_count": 4,
     "metadata": {},
     "output_type": "execute_result"
    }
   ],
   "source": [
    "class DoubleComposedMod extends Module {\n",
    "    val io = IO(new Bundle {\n",
    "        val in = Input(UInt(4.W))\n",
    "        val out = Output(UInt(4.W))\n",
    "    })\n",
    "    \n",
    "    val composed = Module(new ComposedModule)\n",
    "    composed.io.a := 1.U\n",
    "    composed.io.b := 2.U\n",
    "    composed.io.c := 3.U\n",
    "    \n",
    "    io.out := composed.io.out + io.in\n",
    "}\n",
    "\n",
    "test(new DoubleComposedMod) { c => \n",
    "    c.io.in.poke(1.U)    \n",
    "    c.clock.step(1)    \n",
    "    c.io.out.expect(7.U)\n",
    "    \n",
    "    c.io.in.poke(5.U)    \n",
    "    c.clock.step(1)    \n",
    "    c.io.out.expect(11.U)\n",
    "}"
   ]
  },
  {
   "cell_type": "code",
   "execution_count": 4,
   "metadata": {},
   "outputs": [
    {
     "name": "stderr",
     "output_type": "stream",
     "text": [
      "cmd4.sc:1: not found: value visualize\n",
      "val res4 = visualize(() => new DoubleComposedMod)\n",
      "           ^Compilation Failed"
     ]
    },
    {
     "ename": "",
     "evalue": "",
     "output_type": "error",
     "traceback": [
      "Compilation Failed"
     ]
    }
   ],
   "source": [
    "visualize(() => new DoubleComposedMod)"
   ]
  }
 ],
 "metadata": {
  "kernelspec": {
   "display_name": "Scala",
   "language": "scala",
   "name": "scala"
  },
  "language_info": {
   "codemirror_mode": "text/x-scala",
   "file_extension": ".scala",
   "mimetype": "text/x-scala",
   "name": "scala",
   "nbconvert_exporter": "script",
   "version": "2.12.10"
  }
 },
 "nbformat": 4,
 "nbformat_minor": 4
}
