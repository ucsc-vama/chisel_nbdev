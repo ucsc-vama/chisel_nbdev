{
 "cells": [
  {
   "cell_type": "markdown",
   "metadata": {},
   "source": [
    "This is the top level module, that imports -> import_chisel_mod which imports -> ToImport. This collection of notebooks and .sc files are meant to demonstrate how to do chisel development in a notebook environment, particularly how to import the modules implemented in one notebook to another."
   ]
  },
  {
   "cell_type": "code",
   "execution_count": 1,
   "metadata": {},
   "outputs": [
    {
     "data": {
      "text/plain": [
       "\u001b[32mimport \u001b[39m\u001b[36m$file.$              \u001b[39m"
      ]
     },
     "execution_count": 1,
     "metadata": {},
     "output_type": "execute_result"
    }
   ],
   "source": [
    "import $file.source.load_ivy"
   ]
  },
  {
   "cell_type": "code",
   "execution_count": 4,
   "metadata": {},
   "outputs": [
    {
     "data": {
      "text/plain": [
       "\u001b[32mimport \u001b[39m\u001b[36mchisel3.{Input => Input}\n",
       "\u001b[39m\n",
       "\u001b[32mimport \u001b[39m\u001b[36mchisel3._\n",
       "\u001b[39m\n",
       "\u001b[32mimport \u001b[39m\u001b[36mchisel3.util._\n",
       "\u001b[39m\n",
       "\u001b[32mimport \u001b[39m\u001b[36mchisel3.tester._\n",
       "\u001b[39m\n",
       "\u001b[32mimport \u001b[39m\u001b[36mchisel3.iotesters.{ChiselFlatSpec, Driver, PeekPokeTester}\n",
       "\u001b[39m\n",
       "\u001b[32mimport \u001b[39m\u001b[36mchisel3.tester.RawTester.test\u001b[39m"
      ]
     },
     "execution_count": 4,
     "metadata": {},
     "output_type": "execute_result"
    }
   ],
   "source": [
    "import chisel3.{Input => Input}\n",
    "import chisel3._\n",
    "import chisel3.util._\n",
    "import chisel3.tester._\n",
    "import chisel3.iotesters.{ChiselFlatSpec, Driver, PeekPokeTester}\n",
    "import chisel3.tester.RawTester.test"
   ]
  },
  {
   "cell_type": "code",
   "execution_count": 3,
   "metadata": {},
   "outputs": [
    {
     "name": "stdout",
     "output_type": "stream",
     "text": [
      "Compiling /Users/jasonvranek/Code/notebooks/chisel_notebook_practice/ToImport.scCompiling /Users/jasonvranek/Code/notebooks/chisel_notebook_practice/import_chisel_mod.sc[\u001b[35minfo\u001b[0m] [0.001] Elaborating design...\n",
      "[\u001b[35minfo\u001b[0m] [1.180] Done elaborating.\n",
      "file loaded in 0.032611 seconds, 7 symbols, 3 statements\n",
      "test Add Success: 0 tests passed in 4 cycles in 0.049250 seconds 81.22 Hz\n",
      "[\u001b[35minfo\u001b[0m] [0.001] Elaborating design...\n",
      "[\u001b[35minfo\u001b[0m] [0.188] Done elaborating.\n",
      "file loaded in 0.004639667 seconds, 13 symbols, 7 statements\n",
      "test ComposedModule Success: 0 tests passed in 4 cycles in 0.010709 seconds 373.51 Hz\n"
     ]
    },
    {
     "data": {
      "text/plain": [
       "\u001b[32mimport \u001b[39m\u001b[36m$file.$                , import_chisel_mod._\u001b[39m"
      ]
     },
     "execution_count": 3,
     "metadata": {},
     "output_type": "execute_result"
    }
   ],
   "source": [
    "import $file.import_chisel_mod, import_chisel_mod._"
   ]
  },
  {
   "cell_type": "code",
   "execution_count": 5,
   "metadata": {},
   "outputs": [
    {
     "name": "stdout",
     "output_type": "stream",
     "text": [
      "[\u001b[35minfo\u001b[0m] [0.001] Elaborating design...\n",
      "[\u001b[35minfo\u001b[0m] [0.159] Done elaborating.\n",
      "file loaded in 0.005566792 seconds, 6 symbols, 3 statements\n",
      "test DoubleComposedMod Success: 0 tests passed in 4 cycles in 0.011229 seconds 356.21 Hz\n"
     ]
    },
    {
     "data": {
      "text/plain": [
       "defined \u001b[32mclass\u001b[39m \u001b[36mDoubleComposedMod\u001b[39m"
      ]
     },
     "execution_count": 5,
     "metadata": {},
     "output_type": "execute_result"
    }
   ],
   "source": [
    "class DoubleComposedMod extends Module {\n",
    "    val io = IO(new Bundle {\n",
    "        val in = Input(UInt(4.W))\n",
    "        val out = Output(UInt(4.W))\n",
    "    })\n",
    "    \n",
    "    val composed = Module(new ComposedModule)\n",
    "    composed.io.a := 1.U\n",
    "    composed.io.b := 2.U\n",
    "    composed.io.c := 3.U\n",
    "    \n",
    "    io.out := composed.io.out + io.in\n",
    "}\n",
    "\n",
    "test(new DoubleComposedMod) { c => \n",
    "    c.io.in.poke(1.U)    \n",
    "    c.clock.step(1)    \n",
    "    c.io.out.expect(7.U)\n",
    "    \n",
    "    c.io.in.poke(5.U)    \n",
    "    c.clock.step(1)    \n",
    "    c.io.out.expect(11.U)\n",
    "}"
   ]
  },
  {
   "cell_type": "code",
   "execution_count": null,
   "metadata": {},
   "outputs": [],
   "source": []
  }
 ],
 "metadata": {
  "kernelspec": {
   "display_name": "Scala",
   "language": "scala",
   "name": "scala"
  },
  "language_info": {
   "codemirror_mode": "text/x-scala",
   "file_extension": ".scala",
   "mimetype": "text/x-scala",
   "name": "scala",
   "nbconvert_exporter": "script",
   "version": "2.12.10"
  }
 },
 "nbformat": 4,
 "nbformat_minor": 4
}
