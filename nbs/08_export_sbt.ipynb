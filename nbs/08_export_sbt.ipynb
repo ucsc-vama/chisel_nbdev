{
 "cells": [
  {
   "cell_type": "code",
   "execution_count": null,
   "metadata": {},
   "outputs": [],
   "source": [
    "import nbdev.showdoc"
   ]
  },
  {
   "cell_type": "code",
   "execution_count": null,
   "metadata": {},
   "outputs": [],
   "source": [
    "#default_exp export_sbt\n",
    "#default_cls_lvl 3\n",
    "from nbdev.showdoc import show_doc"
   ]
  },
  {
   "cell_type": "code",
   "execution_count": null,
   "metadata": {},
   "outputs": [],
   "source": [
    "#export\n",
    "from nbdev.imports import *\n",
    "from fastcore.script import *\n",
    "from fastcore.foundation import *\n",
    "from keyword import iskeyword\n",
    "import nbformat\n",
    "\n",
    "from chisel_nbdev.export_scala import *"
   ]
  },
  {
   "cell_type": "markdown",
   "metadata": {},
   "source": [
    "# Export to Scala SBT project \n",
    "\n",
    "> The functions that allow one to generate an SBT project from the generated .sc Scala scripts."
   ]
  },
  {
   "cell_type": "markdown",
   "metadata": {},
   "source": [
    "Each "
   ]
  },
  {
   "cell_type": "markdown",
   "metadata": {},
   "source": [
    "# Manage imports\n",
    "> Ammonite style imports are not valid in SBT. It is required to convert these imports and support Scala packages."
   ]
  },
  {
   "cell_type": "markdown",
   "metadata": {},
   "source": [
    "Creates all of the folders required for SBT in the folder specified by `lib_path` in `settings.ini`.\n",
    "- src\n",
    "    - main\n",
    "        - java\n",
    "        - resource\n",
    "        - scala\n",
    "    - test\n",
    "        - java\n",
    "        - resource\n",
    "        - scala"
   ]
  },
  {
   "cell_type": "code",
   "execution_count": null,
   "metadata": {},
   "outputs": [],
   "source": [
    "#export\n",
    "def init_sbt_layout():\n",
    "    cfg = Config(cfg_name='settings.ini')\n",
    "    path = cfg.path(\"lib_path\")\n",
    "    for d in ['main', 'test']:\n",
    "        for dd in ['resource', 'scala', 'java']:\n",
    "            src = path/'src'/d/dd\n",
    "            src.mkdir(parents=True, exist_ok=True)"
   ]
  },
  {
   "cell_type": "code",
   "execution_count": null,
   "metadata": {},
   "outputs": [],
   "source": [
    "init_sbt_layout()"
   ]
  },
  {
   "cell_type": "markdown",
   "metadata": {},
   "source": [
    "Need to convert from\n",
    "```$file.^.source.load_ivy```\n",
    "\n",
    "to\n",
    "```import package.module_name```\n",
    "\n",
    "iff `module_name` is not part of the same `package` as this file"
   ]
  },
  {
   "cell_type": "code",
   "execution_count": null,
   "metadata": {},
   "outputs": [],
   "source": [
    "#export\n",
    "_re_ammonite_import = re.compile(r'^\\s*import\\s+\\${1}.+', re.MULTILINE | re.VERBOSE)"
   ]
  },
  {
   "cell_type": "code",
   "execution_count": null,
   "metadata": {},
   "outputs": [],
   "source": [
    "#export\n",
    "def get_import_mod_names(import_line):\n",
    "    try:\n",
    "        l1, l2 = import_line.split(\",\")\n",
    "        mod_name = l2.split(\".\")[0].strip()\n",
    "    except ValueError:\n",
    "        mod_name = import_line.split(\".\")[-1].strip()\n",
    "    print(f\"import statement: {import_line}, mod_name: {mod_name}\")\n",
    "    return mod_name"
   ]
  },
  {
   "cell_type": "code",
   "execution_count": null,
   "metadata": {},
   "outputs": [
    {
     "name": "stdout",
     "output_type": "stream",
     "text": [
      "import statement:  import $file.^.source.load_ivy, load_ivy._  , mod_name: load_ivy\n"
     ]
    }
   ],
   "source": [
    "l = ' import $file.^.source.load_ivy, load_ivy._  '\n",
    "mod_name = get_import_mod_names(l)\n",
    "test_eq(mod_name, 'load_ivy')    "
   ]
  },
  {
   "cell_type": "code",
   "execution_count": null,
   "metadata": {},
   "outputs": [],
   "source": [
    "#export\n",
    "def mod_in_same_package(mod_name, package):\n",
    "    mod = get_nbdev_module()\n",
    "    return f'{mod_name}.sc' in mod.packages.get(package)"
   ]
  },
  {
   "cell_type": "code",
   "execution_count": null,
   "metadata": {},
   "outputs": [],
   "source": [
    "test_eq(mod_in_same_package(\"ModB\", \"ComposedExample\"), True)"
   ]
  },
  {
   "cell_type": "code",
   "execution_count": null,
   "metadata": {},
   "outputs": [],
   "source": [
    "#export\n",
    "def get_mod_path(mod_name):\n",
    "    mod_name = mod_name.strip(\".sc\") + \".sc\"\n",
    "    cfg = Config(cfg_name='settings.ini')\n",
    "    path = cfg.path(\"lib_path\")\n",
    "    return path/mod_name"
   ]
  },
  {
   "cell_type": "code",
   "execution_count": null,
   "metadata": {},
   "outputs": [],
   "source": [
    "#export\n",
    "def get_mods_package(mod_name): \n",
    "    \"Returns the package that this mod (.sc) is listed under\"\n",
    "    packages = get_nbdev_module().packages\n",
    "    for p, ms in packages.items():\n",
    "        for m in ms:\n",
    "            if m == mod_name + '.sc': return p\n",
    "    return None"
   ]
  },
  {
   "cell_type": "code",
   "execution_count": null,
   "metadata": {},
   "outputs": [],
   "source": [
    "test_eq(get_mods_package('ModB'), 'ComposedExample')"
   ]
  },
  {
   "cell_type": "code",
   "execution_count": null,
   "metadata": {},
   "outputs": [],
   "source": [
    "#export\n",
    "def get_mods_code(mod_name):\n",
    "    '''returns mod_name.sc contents as string (expects no suffix)'''\n",
    "    mod_name = mod_name.strip(\".sc\")\n",
    "    cfg = Config(cfg_name='settings.ini')\n",
    "    path = cfg.path(\"lib_path\")\n",
    "    with open(path/f'{mod_name}.sc') as f: return f.read()"
   ]
  },
  {
   "cell_type": "code",
   "execution_count": null,
   "metadata": {},
   "outputs": [],
   "source": [
    "#export\n",
    "def _replace_amm_import(mod_name, mod_pack):\n",
    "    #TODO more fine-grained imports\n",
    "    return f'import {mod_pack}.{mod_name}._'"
   ]
  },
  {
   "cell_type": "code",
   "execution_count": null,
   "metadata": {},
   "outputs": [],
   "source": [
    "#export \n",
    "def replace_amm_imports(code, package):\n",
    "    code = code.split(\"\\n\")\n",
    "    imps, outc = [], []\n",
    "    for l in code:\n",
    "        imp = _re_ammonite_import.match(l)\n",
    "        if imp:\n",
    "            mod_name = get_import_mod_names(imp.group(0))\n",
    "            mod_pack = get_mods_package(mod_name)\n",
    "            if mod_pack is None:\n",
    "                print(f\"Couldn't find {mod_name}, omitting {imp.group(0)}\")\n",
    "                continue\n",
    "            skip_imp = mod_in_same_package(mod_name, package)\n",
    "#             print(f'{mod_name} is in package {package} == {skip_imp}')\n",
    "            if skip_imp: \n",
    "                #omit the import as they share a namespace\n",
    "                continue\n",
    "            else:\n",
    "                imps.append(_replace_amm_import(mod_name, mod_pack))\n",
    "                continue\n",
    "        outc.append(l)\n",
    "    return \"\\n\".join(outc), \"\\n\".join(imps)"
   ]
  },
  {
   "cell_type": "code",
   "execution_count": null,
   "metadata": {},
   "outputs": [
    {
     "name": "stdout",
     "output_type": "stream",
     "text": [
      "import statement:  import $file.^.source.load_ivy, load_ivy._  , mod_name: load_ivy\n",
      "Couldn't find load_ivy, omitting  import $file.^.source.load_ivy, load_ivy._  \n",
      "import statement:  import $file.^.lib_name.mod_name, mod_name: mod_name\n",
      "Couldn't find mod_name, omitting  import $file.^.lib_name.mod_name\n"
     ]
    }
   ],
   "source": [
    "code = f' import $file.^.source.load_ivy, load_ivy._  \\n some code \\n import $file.^.lib_name.mod_name\\n '\n",
    "imps = replace_amm_imports(code, 'Examples')\n",
    "# imps = [l for l in split_amm_imports(code).split(\"\\n\")]"
   ]
  },
  {
   "cell_type": "code",
   "execution_count": null,
   "metadata": {},
   "outputs": [],
   "source": [
    "#export\n",
    "def prepare_scala(code, mod_name):\n",
    "    package = get_mods_package(mod_name)\n",
    "    code, imports = replace_amm_imports(code, package)\n",
    "    # insert the package statment (TODO add com.blah.package from settings.ini)\n",
    "    imports = f'package {package}\\n' + imports\n",
    "    # wrap the script's code in an object\n",
    "    wrapped = wrap_code(code, mod_name)\n",
    "    # combine imports and code to form single string \n",
    "    return imports + \"\\n\\n\" + wrapped"
   ]
  },
  {
   "cell_type": "code",
   "execution_count": null,
   "metadata": {},
   "outputs": [],
   "source": [
    "#export\n",
    "def wrap_code(code, mod_name):\n",
    "    \"\"\"Wraps the code block in an object named `mod_name`\"\"\"\n",
    "    tabbed_code = \"\\n\".join([f'    {l}' for l in code.split(\"\\n\")])\n",
    "    return f'object {mod_name}' + ' {\\n' + f'{tabbed_code}' + '\\n}'"
   ]
  },
  {
   "cell_type": "code",
   "execution_count": null,
   "metadata": {},
   "outputs": [
    {
     "name": "stdout",
     "output_type": "stream",
     "text": [
      "object modA {\n",
      "    import blah \n",
      "    val a = 4\n",
      "    \n",
      "}\n"
     ]
    }
   ],
   "source": [
    "print(wrap_code(\"import blah \\nval a = 4\\n\", 'modA'))"
   ]
  },
  {
   "cell_type": "code",
   "execution_count": null,
   "metadata": {},
   "outputs": [
    {
     "name": "stdout",
     "output_type": "stream",
     "text": [
      "import statement: import $file.^.nbdev.ModA, ModA._, mod_name: ModA\n",
      "import statement: import $file.^.nbdev.test, test._, mod_name: test\n",
      "import statement: import $file.^.source.load_ivy, mod_name: load_ivy\n",
      "Couldn't find load_ivy, omitting import $file.^.source.load_ivy\n"
     ]
    }
   ],
   "source": [
    "# test_nb = read_nb('import_composed_mod.ipynb')\n",
    "# cell = test_nb['cells'][3]\n",
    "mod = 'ModB'\n",
    "code = get_mods_code(mod)\n",
    "# print(code)\n",
    "scala = prepare_scala(code, mod)\n",
    "# print(scala)"
   ]
  },
  {
   "cell_type": "markdown",
   "metadata": {},
   "source": [
    "# script2scala()\n",
    "> Replaces the Ammonite imports with SBT compatible imports and wraps code in `Object`.\n",
    "mod_name = name of the .sc script"
   ]
  },
  {
   "cell_type": "code",
   "execution_count": null,
   "metadata": {},
   "outputs": [],
   "source": [
    "#export\n",
    "def script2scala(mod_name):\n",
    "    \"Converts a Scala script (.sc) to a Scala file (.scala)\"\n",
    "    script_code = get_mods_code(mod_name)\n",
    "        \n",
    "    # replace imports and wrap code in object\n",
    "    scala_code = prepare_scala(script_code, mod_name)\n",
    "    \n",
    "    return scala_code"
   ]
  },
  {
   "cell_type": "markdown",
   "metadata": {},
   "source": [
    "# create_packages\n",
    "> Creates the .scala files from the .sc scripts and the package data contained in `_.nbdev.py`"
   ]
  },
  {
   "cell_type": "code",
   "execution_count": null,
   "metadata": {},
   "outputs": [],
   "source": [
    "#export\n",
    "def create_packages():\n",
    "    \"Create directory for each package and export respective scala scripts `files` under `modules`\"\n",
    "    mod = get_nbdev_module()\n",
    "    cfg = Config(cfg_name='settings.ini')\n",
    "    path = cfg.path(\"lib_path\")/'src'/'main'/'scala'\n",
    "    for package, modules in mod.packages.items():\n",
    "        pname = path/package\n",
    "        pname.mkdir(parents=True, exist_ok=True)\n",
    "        for mod in modules:\n",
    "            mod_path = pname/f'{mod + \"ala\"}'\n",
    "#             file_path = cfg.path(\"lib_path\")/mod\n",
    "#             shutil.copy(file_path, mod_name)\n",
    "            scala_code = script2scala(mod.strip(\".sc\"))\n",
    "            with open(mod_path, 'w') as f:\n",
    "                f.write(scala_code)\n",
    "            print(f'copied {mod} -> {package}/{mod + \"ala\"}')"
   ]
  },
  {
   "cell_type": "code",
   "execution_count": null,
   "metadata": {},
   "outputs": [
    {
     "name": "stdout",
     "output_type": "stream",
     "text": [
      "import statement: import $file.^.nbdev.ModB, ModB._, mod_name: ModB\n",
      "import statement: import $file.^.source.load_ivy, mod_name: load_ivy\n",
      "Couldn't find load_ivy, omitting import $file.^.source.load_ivy\n",
      "copied ModC.sc -> ComposedExample/ModC.scala\n",
      "import statement: import $file.^.source.load_ivy, mod_name: load_ivy\n",
      "Couldn't find load_ivy, omitting import $file.^.source.load_ivy\n",
      "copied ModA.sc -> ComposedExample/ModA.scala\n",
      "import statement: import $file.^.nbdev.ModA, ModA._, mod_name: ModA\n",
      "import statement: import $file.^.nbdev.test, test._, mod_name: test\n",
      "import statement: import $file.^.source.load_ivy, mod_name: load_ivy\n",
      "Couldn't find load_ivy, omitting import $file.^.source.load_ivy\n",
      "copied ModB.sc -> ComposedExample/ModB.scala\n",
      "copied NewScript2.sc -> Examples/NewScript2.scala\n",
      "import statement: import $file.^.source.load_ivy, mod_name: load_ivy\n",
      "Couldn't find load_ivy, omitting import $file.^.source.load_ivy\n",
      "copied test.sc -> Examples/test.scala\n",
      "copied NewScript.sc -> Examples/NewScript.scala\n"
     ]
    }
   ],
   "source": [
    "create_packages()"
   ]
  },
  {
   "cell_type": "code",
   "execution_count": null,
   "metadata": {},
   "outputs": [],
   "source": [
    "#export\n",
    "def write_build_dot_sbt():\n",
    "    # don't re-write if exists\n",
    "    pass"
   ]
  }
 ],
 "metadata": {
  "kernelspec": {
   "display_name": "Python 3",
   "language": "python",
   "name": "python3"
  }
 },
 "nbformat": 4,
 "nbformat_minor": 4
}
