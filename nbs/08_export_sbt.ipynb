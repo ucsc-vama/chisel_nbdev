{
 "cells": [
  {
   "cell_type": "code",
   "execution_count": null,
   "metadata": {},
   "outputs": [],
   "source": [
    "import nbdev.showdoc"
   ]
  },
  {
   "cell_type": "code",
   "execution_count": null,
   "metadata": {},
   "outputs": [],
   "source": [
    "#default_exp export_sbt\n",
    "#default_cls_lvl 3\n",
    "from nbdev.showdoc import show_doc"
   ]
  },
  {
   "cell_type": "code",
   "execution_count": null,
   "metadata": {},
   "outputs": [],
   "source": [
    "#export\n",
    "from nbdev.imports import *\n",
    "from fastcore.script import *\n",
    "from fastcore.foundation import *\n",
    "from keyword import iskeyword\n",
    "import nbformat\n",
    "\n",
    "from chisel_nbdev.export_scala import *"
   ]
  },
  {
   "cell_type": "markdown",
   "metadata": {},
   "source": [
    "# Export to Scala SBT project \n",
    "\n",
    "> The functions that allow one to generate an SBT project from the generated .sc Scala scripts."
   ]
  },
  {
   "cell_type": "markdown",
   "metadata": {},
   "source": [
    "Each "
   ]
  },
  {
   "cell_type": "markdown",
   "metadata": {},
   "source": [
    "# Manage imports\n",
    "> Ammonite style imports are not valid in SBT. It is required to convert these imports and support Scala packages."
   ]
  },
  {
   "cell_type": "markdown",
   "metadata": {},
   "source": [
    "Creates all of the folders required for SBT in the folder specified by `lib_path` in `settings.ini`.\n",
    "- src\n",
    "    - main\n",
    "        - java\n",
    "        - resource\n",
    "        - scala\n",
    "    - test\n",
    "        - java\n",
    "        - resource\n",
    "        - scala"
   ]
  },
  {
   "cell_type": "code",
   "execution_count": null,
   "metadata": {},
   "outputs": [],
   "source": [
    "#export\n",
    "def init_sbt_layout():\n",
    "    cfg = Config(cfg_name='settings.ini')\n",
    "    path = cfg.path(\"lib_path\")\n",
    "    for d in ['main', 'test']:\n",
    "        for dd in ['resource', 'scala', 'java']:\n",
    "            src = path/'src'/d/dd\n",
    "            src.mkdir(parents=True, exist_ok=True)"
   ]
  },
  {
   "cell_type": "code",
   "execution_count": null,
   "metadata": {},
   "outputs": [],
   "source": [
    "init_sbt_layout()"
   ]
  },
  {
   "cell_type": "markdown",
   "metadata": {},
   "source": [
    "Need to convert from\n",
    "```$file.^.source.load_ivy```\n",
    "\n",
    "to\n",
    "```import package.module_name```\n",
    "\n",
    "iff `module_name` is not part of the same `package` as this file"
   ]
  },
  {
   "cell_type": "code",
   "execution_count": null,
   "metadata": {},
   "outputs": [],
   "source": [
    "#export\n",
    "_re_ammonite_import = re.compile(r'^\\s*import\\s+\\${1}.+', re.MULTILINE | re.VERBOSE)"
   ]
  },
  {
   "cell_type": "code",
   "execution_count": null,
   "metadata": {},
   "outputs": [],
   "source": [
    "#export \n",
    "def split_amm_imports(code):\n",
    "    imports = _re_ammonite_import.findall(code)\n",
    "    return imports"
   ]
  },
  {
   "cell_type": "code",
   "execution_count": null,
   "metadata": {},
   "outputs": [],
   "source": [
    "#export\n",
    "def get_import_mod_names(imports):\n",
    "    mod_names = []\n",
    "    for i in imports:\n",
    "        try:\n",
    "            l1, l2 = i.split(\",\")\n",
    "            mod_name = l2.split(\".\")[0].strip()\n",
    "        except ValueError:\n",
    "            mod_name = i.split(\".\")[-1].strip()\n",
    "        mod_names.append(mod_name)\n",
    "        print(f\"import statement: {i}, mod_name: {mod_name}\")\n",
    "        \n",
    "    return mod_names"
   ]
  },
  {
   "cell_type": "code",
   "execution_count": null,
   "metadata": {},
   "outputs": [],
   "source": [
    "#export\n",
    "def mod_in_same_package(mod_name, package):\n",
    "    mod = get_nbdev_module()\n",
    "    return f'{mod_name}.sc' in mod.packages.get(package)"
   ]
  },
  {
   "cell_type": "code",
   "execution_count": null,
   "metadata": {},
   "outputs": [],
   "source": [
    "test_eq(mod_in_same_package(\"ModB\", \"ComposedExample\"), True)"
   ]
  },
  {
   "cell_type": "code",
   "execution_count": null,
   "metadata": {},
   "outputs": [
    {
     "name": "stdout",
     "output_type": "stream",
     "text": [
      "[' import $file.^.source.load_ivy, load_ivy._  ', ' import $file.^.lib_name.mod_name']\n",
      "import statement:  import $file.^.source.load_ivy, load_ivy._  , mod_name: load_ivy\n",
      "import statement:  import $file.^.lib_name.mod_name, mod_name: mod_name\n"
     ]
    }
   ],
   "source": [
    "# cell = nbformat.v4.new_code_cell(f' import $file.^.source.load_ivy  \\n some code')\n",
    "cell = nbformat.v4.new_code_cell(f' import $file.^.source.load_ivy, load_ivy._  \\n some code')\n",
    "code = f' import $file.^.source.load_ivy, load_ivy._  \\n some code \\n import $file.^.lib_name.mod_name\\n '\n",
    "imps = split_amm_imports(code)\n",
    "print(imps)\n",
    "mod_names = get_import_mod_names(imps)\n",
    "    \n",
    "# print(check_re(cell, _re_ammonite_import).groups(0))"
   ]
  },
  {
   "cell_type": "code",
   "execution_count": null,
   "metadata": {},
   "outputs": [],
   "source": [
    "#export\n",
    "def conv_imports(code, package):\n",
    "    imports = split_amm_imports(code)\n",
    "    mod_names = get_import_mod_names(imports)\n",
    "    for m in mod_names:\n",
    "        skip_imp = mod_in_same_package(m, package)\n",
    "        print(f'{m} is in package {package} == {skip_imp}')"
   ]
  },
  {
   "cell_type": "code",
   "execution_count": null,
   "metadata": {},
   "outputs": [],
   "source": [
    "#export\n",
    "def get_mod_path(mod_name):\n",
    "    cfg = Config(cfg_name='settings.ini')\n",
    "    path = cfg.path(\"lib_path\")\n",
    "    return path/mod_name"
   ]
  },
  {
   "cell_type": "code",
   "execution_count": null,
   "metadata": {},
   "outputs": [],
   "source": [
    "#export\n",
    "def get_mods_package(mod_name): \n",
    "    \"Returns the package that this mod (.sc) is listed under\"\n",
    "    packages = get_nbdev_module().packages\n",
    "    for p, ms in packages.items():\n",
    "        for m in ms:\n",
    "            if m == mod_name + '.sc': return p\n",
    "    return None\n"
   ]
  },
  {
   "cell_type": "code",
   "execution_count": null,
   "metadata": {},
   "outputs": [],
   "source": [
    "test_eq(get_mods_package('ModB'), 'ComposedExample')"
   ]
  },
  {
   "cell_type": "code",
   "execution_count": null,
   "metadata": {},
   "outputs": [
    {
     "name": "stdout",
     "output_type": "stream",
     "text": [
      "// AUTOGENERATED! DO NOT EDIT! File to edit: nbs/import_chisel_mod.ipynb (unless otherwise specified).\n",
      "\n",
      "// Cell\n",
      "//default_exp ModB\n",
      "//package ComposedExample\n",
      "\n",
      "// Cell\n",
      "import $file.^.nbdev.ModA, ModA._\n",
      "\n",
      "// Cell\n",
      "import $file.^.source.load_ivy\n",
      "\n",
      "// Cell\n",
      "import chisel3.{Input => Input}\n",
      "import chisel3._\n",
      "import chisel3.util._\n",
      "import chisel3.tester._\n",
      "import chisel3.iotesters.{ChiselFlatSpec, Driver, PeekPokeTester}\n",
      "import chisel3.tester.RawTester.test\n",
      "\n",
      "// Cell\n",
      "class ComposedModule extends Module {\n",
      "    val io = IO(new Bundle {\n",
      "        val a = Input(UInt(4.W))\n",
      "        val b = Input(UInt(4.W))\n",
      "        val c = Input(UInt(4.W))\n",
      "        val out = Output(UInt(4.W))\n",
      "    })\n",
      "    val addr = Module(new Add)\n",
      "    addr.io.a := io.a\n",
      "    addr.io.b := io.b\n",
      "    io.out := addr.io.out + io.c\n",
      "}\n",
      "import statement: import $file.^.nbdev.ModA, ModA._, mod_name: ModA\n",
      "import statement: import $file.^.source.load_ivy, mod_name: load_ivy\n",
      "ModA is in package ComposedExample == True\n",
      "load_ivy is in package ComposedExample == False\n"
     ]
    }
   ],
   "source": [
    "# test_nb = read_nb('import_composed_mod.ipynb')\n",
    "# cell = test_nb['cells'][3]\n",
    "with open(path/'ModB.sc') as f: \n",
    "    code = f.read()\n",
    "    print(code)\n",
    "    conv_imports(code, get_mods_package('ModB'))"
   ]
  },
  {
   "cell_type": "markdown",
   "metadata": {},
   "source": [
    "# script2scala()\n",
    "> Replaces the Ammonite imports with SBT compatible imports and wraps code in `Object`."
   ]
  },
  {
   "cell_type": "code",
   "execution_count": null,
   "metadata": {},
   "outputs": [],
   "source": [
    "#export\n",
    "def script2scala(fname, package, file_path):\n",
    "    \"Edit a scala file to work with SBT.\"\n",
    "    with open(fname, 'r') as f: code = f.read()\n",
    "        \n",
    "    # replace imports\n",
    "    \n",
    "    # bundle the non-import code in an Object\n",
    "    \n",
    "    # insert package\n",
    "    \n",
    "    with open(fname, 'w') as f:\n",
    "#         f.write(f\"// AUTOGENERATED! DO NOT EDIT! File to edit: {file_path} (unless otherwise specified).\")\n",
    "        f.write(code)"
   ]
  },
  {
   "cell_type": "markdown",
   "metadata": {},
   "source": [
    "# create_packages\n",
    "> Creates the .scala files from the .sc scripts and the package data contained in `_.nbdev.py`"
   ]
  },
  {
   "cell_type": "code",
   "execution_count": null,
   "metadata": {},
   "outputs": [],
   "source": [
    "#export\n",
    "def create_packages():\n",
    "    \"Create directory for each package and export respective scala scripts `files` under `modules`\"\n",
    "    mod = get_nbdev_module()\n",
    "    cfg = Config(cfg_name='settings.ini')\n",
    "    path = cfg.path(\"lib_path\")/'src'/'main'/'scala'\n",
    "    for package, modules in mod.packages.items():\n",
    "        pname = path/package\n",
    "        pname.mkdir(parents=True, exist_ok=True)\n",
    "        for mod in modules:\n",
    "            mod_name = pname/f'{mod + \"ala\"}'\n",
    "            file_path = cfg.path(\"lib_path\")/mod\n",
    "            shutil.copy(file_path, mod_name)\n",
    "            script2scala(mod_name, package, file_path)\n",
    "            print(f'copied {mod} -> {package}/{mod + \"ala\"}')"
   ]
  },
  {
   "cell_type": "code",
   "execution_count": null,
   "metadata": {},
   "outputs": [
    {
     "name": "stdout",
     "output_type": "stream",
     "text": [
      "copied ModC.sc -> ComposedExample/ModC.scala\n",
      "copied ModA.sc -> ComposedExample/ModA.scala\n",
      "copied ModB.sc -> ComposedExample/ModB.scala\n",
      "copied NewScript2.sc -> Examples/NewScript2.scala\n",
      "copied test.sc -> Examples/test.scala\n",
      "copied NewScript.sc -> Examples/NewScript.scala\n"
     ]
    }
   ],
   "source": [
    "create_packages()"
   ]
  },
  {
   "cell_type": "markdown",
   "metadata": {},
   "source": [
    "To support exporting SBT projects we need to be able to use packages."
   ]
  }
 ],
 "metadata": {
  "kernelspec": {
   "display_name": "Python 3",
   "language": "python",
   "name": "python3"
  }
 },
 "nbformat": 4,
 "nbformat_minor": 4
}
