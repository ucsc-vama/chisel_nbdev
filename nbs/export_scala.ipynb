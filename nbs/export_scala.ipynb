{
 "cells": [
  {
   "cell_type": "code",
   "execution_count": 1,
   "metadata": {},
   "outputs": [],
   "source": [
    "import nbdev.showdoc"
   ]
  },
  {
   "cell_type": "code",
   "execution_count": 2,
   "metadata": {},
   "outputs": [],
   "source": [
    "#hide\n",
    "#default_exp export\n",
    "#default_cls_lvl 3\n",
    "from nbdev.showdoc import show_doc"
   ]
  },
  {
   "cell_type": "code",
   "execution_count": 3,
   "metadata": {},
   "outputs": [],
   "source": [
    "from nbdev.imports import *\n",
    "from fastcore.script import *\n",
    "from fastcore.foundation import *\n",
    "from keyword import iskeyword\n",
    "import nbformat"
   ]
  },
  {
   "cell_type": "markdown",
   "metadata": {},
   "source": [
    "# Export to scala sbt project \n",
    "\n",
    "> The functions that transform notebooks in a library (nearly 1:1 translation from nbdev 00_export.ipynb, with the goal of transforming notebooks using Jupyter Scala kernel (https://almond.sh) into importable, testable, and well documented Scala files. "
   ]
  },
  {
   "cell_type": "markdown",
   "metadata": {},
   "source": [
    "The most important function defined in this module is `notebooks2script`, so you may want to jump to it before scrolling though the rest, which explain the details behind the scenes of the conversion from notebooks to library. The main things to remember are:\n",
    "- put `# export` on each cell you want exported\n",
    "- put `# exports` on each cell you want exported with the source code shown in the docs \n",
    "- put `# exporti` on each cell you want exported without it being added to `__all__`, and without it showing up in the docs.\n",
    "- one cell should contain `# default_exp` followed by the name of the module (with points for submodules and without the py extension) everything should be exported in (if one specific cell needs to be exported in a different module, just indicate it after `#export`: `#export special.module`)\n",
    "- all left members of an equality, functions and classes will be exported and variables that are not private will be put in the `__all__` automatically\n",
    "- to add something to `__all__` if it's not picked automatically, write an exported cell with something like `#add2all \"my_name\"`"
   ]
  },
  {
   "cell_type": "markdown",
   "metadata": {},
   "source": [
    "## Basic foundations"
   ]
  },
  {
   "cell_type": "markdown",
   "metadata": {},
   "source": [
    "For bootstrapping `nbdev` we have a few basic foundations defined in <code>imports</code>, which we test a show here. First, a simple config file class, `Config` that read the content of your `settings.ini` file and make it accessible:"
   ]
  },
  {
   "cell_type": "code",
   "execution_count": 4,
   "metadata": {},
   "outputs": [
    {
     "data": {
      "text/markdown": [
       "<h3 id=\"Config\" class=\"doc_header\"><code>Config</code><a href=\"https://github.com/fastai/fastcore/tree/master/fastcore/foundation.py#L252\" class=\"source_link\" style=\"float:right\">[source]</a></h3>\n",
       "\n",
       "> <code>Config</code>(**`cfg_name`**=*`'settings.ini'`*)\n",
       "\n",
       "Reading and writing `settings.ini`"
      ],
      "text/plain": [
       "<IPython.core.display.Markdown object>"
      ]
     },
     "metadata": {},
     "output_type": "display_data"
    }
   ],
   "source": [
    "show_doc(Config, title_level=3)"
   ]
  },
  {
   "cell_type": "code",
   "execution_count": 5,
   "metadata": {},
   "outputs": [],
   "source": [
    "cfg = Config(cfg_name='settings.ini')\n",
    "test_eq(cfg.lib_name, 'chisel-nbdev')\n",
    "test_eq(cfg.git_url, \"https://github.com/ucsc-vama/chisel-nbdev\")\n",
    "test_eq(cfg.path(\"lib_path\"), Path.cwd().parent/'nbdev')\n",
    "test_eq(cfg.path(\"nbs_path\"), Path.cwd())\n",
    "# test_eq(cfg.path(\"doc_path\"), Path.cwd().parent/'docs')\n",
    "# test_eq(cfg.custom_sidebar, 'False')"
   ]
  },
  {
   "cell_type": "markdown",
   "metadata": {},
   "source": [
    "## Reading a notebook"
   ]
  },
  {
   "cell_type": "markdown",
   "metadata": {},
   "source": [
    "### What's a notebook?"
   ]
  },
  {
   "cell_type": "markdown",
   "metadata": {},
   "source": [
    "A jupyter notebook is a json file behind the scenes. We can just read it with the json module, which will return a nested dictionary of dictionaries/lists of dictionaries, but there are some small differences between reading the json and using the tools from `nbformat` so we'll use this one."
   ]
  },
  {
   "cell_type": "code",
   "execution_count": 6,
   "metadata": {},
   "outputs": [],
   "source": [
    "#export\n",
    "def read_nb(fname):\n",
    "    \"Read the notebook in `fname`.\"\n",
    "    with open(Path(fname),'r', encoding='utf8') as f: return nbformat.reads(f.read(), as_version=4)"
   ]
  },
  {
   "cell_type": "markdown",
   "metadata": {},
   "source": [
    "`fname` can be a string or a pathlib object."
   ]
  },
  {
   "cell_type": "code",
   "execution_count": 7,
   "metadata": {},
   "outputs": [],
   "source": [
    "test_nb = read_nb('test.ipynb')"
   ]
  },
  {
   "cell_type": "markdown",
   "metadata": {},
   "source": [
    "The root has four keys: `cells` contains the cells of the notebook, `metadata` some stuff around the version of python used to execute the notebook, `nbformat` and `nbformat_minor` the version of nbformat. "
   ]
  },
  {
   "cell_type": "code",
   "execution_count": 8,
   "metadata": {},
   "outputs": [
    {
     "data": {
      "text/plain": [
       "dict_keys(['cells', 'metadata', 'nbformat', 'nbformat_minor'])"
      ]
     },
     "execution_count": 8,
     "metadata": {},
     "output_type": "execute_result"
    }
   ],
   "source": [
    "test_nb.keys()"
   ]
  },
  {
   "cell_type": "code",
   "execution_count": 9,
   "metadata": {},
   "outputs": [
    {
     "data": {
      "text/plain": [
       "{'kernelspec': {'display_name': 'Scala', 'language': 'scala', 'name': 'scala'},\n",
       " 'language_info': {'codemirror_mode': 'text/x-scala',\n",
       "  'file_extension': '.scala',\n",
       "  'mimetype': 'text/x-scala',\n",
       "  'name': 'scala',\n",
       "  'nbconvert_exporter': 'script',\n",
       "  'version': '2.12.10'}}"
      ]
     },
     "execution_count": 9,
     "metadata": {},
     "output_type": "execute_result"
    }
   ],
   "source": [
    "test_nb['metadata']"
   ]
  },
  {
   "cell_type": "code",
   "execution_count": 10,
   "metadata": {},
   "outputs": [
    {
     "data": {
      "text/plain": [
       "'4.4'"
      ]
     },
     "execution_count": 10,
     "metadata": {},
     "output_type": "execute_result"
    }
   ],
   "source": [
    "f\"{test_nb['nbformat']}.{test_nb['nbformat_minor']}\""
   ]
  },
  {
   "cell_type": "markdown",
   "metadata": {},
   "source": [
    "The cells key then contains a list of cells. Each one is a new dictionary that contains entries like the type (code or markdown), the source (what is written in the cell) and the output (for code cells)."
   ]
  },
  {
   "cell_type": "code",
   "execution_count": 11,
   "metadata": {},
   "outputs": [
    {
     "data": {
      "text/plain": [
       "{'cell_type': 'markdown',\n",
       " 'metadata': {},\n",
       " 'source': '### Call the load_ivy script.\\nLocated in the source folder, the load_ivy.sc script will use ammonite to download snapshots of the chisel libraries, to be cached on your system. This is necessary for EVERY chisel notebook so we can then import our chisel libraries like we would in an SBT project structure.'}"
      ]
     },
     "execution_count": 11,
     "metadata": {},
     "output_type": "execute_result"
    }
   ],
   "source": [
    "test_nb['cells'][0]"
   ]
  },
  {
   "cell_type": "markdown",
   "metadata": {},
   "source": [
    "### Finding patterns"
   ]
  },
  {
   "cell_type": "markdown",
   "metadata": {},
   "source": [
    "The following functions are used to catch the flags used in the code cells."
   ]
  },
  {
   "cell_type": "code",
   "execution_count": 12,
   "metadata": {},
   "outputs": [],
   "source": [
    "#export\n",
    "def check_re(cell, pat, code_only=True):\n",
    "    \"Check if `cell` contains a line with regex `pat`\"\n",
    "    if code_only and cell['cell_type'] != 'code': return\n",
    "    if isinstance(pat, str): pat = re.compile(pat, re.IGNORECASE | re.MULTILINE)\n",
    "    return pat.search(cell['source'])"
   ]
  },
  {
   "cell_type": "markdown",
   "metadata": {},
   "source": [
    "`pat` can be a string or a compiled regex. If `code_only=True`, this function ignores non-code cells, such as markdown."
   ]
  },
  {
   "cell_type": "code",
   "execution_count": 13,
   "metadata": {},
   "outputs": [],
   "source": [
    "cell = test_nb['cells'][1].copy()\n",
    "# print(cell)\n",
    "assert check_re(cell, '//export') is not None\n",
    "assert check_re(cell, re.compile('//export')) is not None\n",
    "assert check_re(cell, '# bla') is None\n",
    "cell['cell_type'] = 'markdown'\n",
    "assert check_re(cell, '//export') is None # don't export markdown\n",
    "assert check_re(cell, '//export', code_only=False) is not None # unless specified"
   ]
  },
  {
   "cell_type": "code",
   "execution_count": 14,
   "metadata": {},
   "outputs": [],
   "source": [
    "#export\n",
    "def check_re_multi(cell, pats, code_only=True):\n",
    "    \"Check if `cell` contains a line matching any regex in `pats`, returning the first match found\"\n",
    "    return L(pats).map_first(partial(check_re, cell, code_only=code_only))"
   ]
  },
  {
   "cell_type": "code",
   "execution_count": 15,
   "metadata": {},
   "outputs": [],
   "source": [
    "cell = test_nb['cells'][1].copy()\n",
    "cell['source'] = \"a b c\"\n",
    "# print(cell)\n",
    "assert check_re(cell, 'a') is not None\n",
    "assert check_re(cell, 'd') is None\n",
    "# show that searching with patterns ['d','b','a'] will match 'b'\n",
    "# i.e. 'd' is not found and we don't search for 'a'\n",
    "assert check_re_multi(cell, ['d','b','a']).span() == (2,3)"
   ]
  },
  {
   "cell_type": "code",
   "execution_count": 16,
   "metadata": {},
   "outputs": [],
   "source": [
    "#export\n",
    "def _mk_flag_re(body, n_params, comment):\n",
    "    \"Compiles a regex for finding nbdev flags\"\n",
    "    assert body!=True, 'magics no longer supported'\n",
    "    prefix = r\"\\s*\\//\\s*\" # scala style comment \"//\" is prefix\n",
    "    param_group = \"\"\n",
    "    if n_params == -1: param_group = r\"[ \\t]+(.+)\"\n",
    "    if n_params == 1: param_group = r\"[ \\t]+(\\S+)\"\n",
    "    if n_params == (0,1): param_group = r\"(?:[ \\t]+(\\S+))?\"\n",
    "    return re.compile(rf\"\"\"\n",
    "# {comment}:\n",
    "^           # beginning of line (since re.MULTILINE is passed)\n",
    "{prefix}\n",
    "{body}\n",
    "{param_group}\n",
    "[ \\t]*       # any number of spaces and/or tabs\n",
    "$            # end of line (since re.MULTILINE is passed)\n",
    "\"\"\", re.MULTILINE | re.VERBOSE)"
   ]
  },
  {
   "cell_type": "markdown",
   "metadata": {},
   "source": [
    "This function returns a regex object that can be used to find nbdev flags in multiline text\n",
    "- `body` regex fragment to match one or more flags,\n",
    "- `n_params` number of flag parameters to match and catch (-1 for any number of params; `(0,1)` for 0 for 1 params),\n",
    "- `comment` explains what the compiled regex should do."
   ]
  },
  {
   "cell_type": "code",
   "execution_count": 17,
   "metadata": {},
   "outputs": [],
   "source": [
    "#hide\n",
    "re_blank_test = _mk_flag_re('export[si]?', 0, \"test\") # 0:\n",
    "re_mod_test = _mk_flag_re('export[si]?', 1, \"test\")\n",
    "re_opt_test = _mk_flag_re('export[si]?', (0,1), \"test\")\n",
    "for f in ['export', 'exports', 'exporti']:\n",
    "    cell = nbformat.v4.new_code_cell(f'//{f}  \\n some code')\n",
    "    assert check_re(cell, re_blank_test) is not None\n",
    "    assert check_re(cell, re_mod_test) is None\n",
    "    assert check_re(cell, re_opt_test) is not None\n",
    "    test_eq(check_re(cell, re_opt_test).groups()[0], None)\n",
    "    cell.source = f'//{f} special.module \\n some code'\n",
    "    assert check_re(cell, re_blank_test) is None\n",
    "    assert check_re(cell, re_mod_test) is not None\n",
    "    test_eq(check_re(cell, re_mod_test).groups()[0], 'special.module')\n",
    "    assert check_re(cell, re_opt_test) is not None\n",
    "    test_eq(check_re(cell, re_opt_test).groups()[0], 'special.module')"
   ]
  },
  {
   "cell_type": "code",
   "execution_count": 18,
   "metadata": {},
   "outputs": [],
   "source": [
    "#export\n",
    "_re_blank_export = _mk_flag_re(\"export[si]?\", 0,\n",
    "    \"Matches any line with //export, //exports or //exporti without any module name\")"
   ]
  },
  {
   "cell_type": "code",
   "execution_count": 19,
   "metadata": {},
   "outputs": [],
   "source": [
    "#export\n",
    "_re_mod_export = _mk_flag_re(\"export[si]?\", 1,\n",
    "    \"Matches any line with //export, //exports or //exporti with a module name and catches it in group 1\")"
   ]
  },
  {
   "cell_type": "code",
   "execution_count": 20,
   "metadata": {},
   "outputs": [],
   "source": [
    "#export\n",
    "_re_internal_export = _mk_flag_re(\"exporti\", (0,1),\n",
    "    \"Matches any line with //exporti with or without a module name\")"
   ]
  },
  {
   "cell_type": "code",
   "execution_count": 21,
   "metadata": {},
   "outputs": [],
   "source": [
    "#exporti\n",
    "def _is_external_export(tst):\n",
    "    \"Check if a cell is an external or internal export. `tst` is an re match\"\n",
    "    return _re_internal_export.search(tst.string) is None"
   ]
  },
  {
   "cell_type": "code",
   "execution_count": 22,
   "metadata": {},
   "outputs": [],
   "source": [
    "#export\n",
    "def is_export(cell, default):\n",
    "    \"Check if `cell` is to be exported and returns the name of the module to export it if provided\"\n",
    "    tst = check_re(cell, _re_blank_export)\n",
    "    if tst:\n",
    "        if default is None:\n",
    "            print(f\"No export destination, ignored:\\n{cell['source']}\")\n",
    "        return default, _is_external_export(tst)\n",
    "    tst = check_re(cell, _re_mod_export)\n",
    "    if tst: return os.path.sep.join(tst.groups()[0].split('.')), _is_external_export(tst)\n",
    "    else: return None"
   ]
  },
  {
   "cell_type": "markdown",
   "metadata": {},
   "source": [
    "`is_export` returns;\n",
    "- a tuple of (\"module name\", \"external boolean\" (`False` for an internal export)) if `cell` is to be exported or \n",
    "- `None` if `cell` will not be exported.\n",
    "\n",
    "The cells to export are marked with `//export`/`//exporti`/`//exports`, potentially with a module name where we want it exported. The default module is given in a cell of the form `//default_exp bla` inside the notebook (usually at the top), though in this function, it needs the be passed (the final script will read the whole notebook to find it).\n",
    "- a cell marked with `//export`/`//exporti`/`//exports` will be exported to the default module\n",
    "- an exported cell marked with `special.module` appended will be exported in `special.module` (located in `lib_name/special/module.py`)\n",
    "- a cell marked with `//export` will have its signature added to the documentation\n",
    "- a cell marked with `//exports` will additionally have its source code added to the documentation\n",
    "- a cell marked with `//exporti` will not show up in the documentation, and will also not be added to `__all__`."
   ]
  },
  {
   "cell_type": "code",
   "execution_count": 23,
   "metadata": {},
   "outputs": [],
   "source": [
    "cell = test_nb['cells'][1].copy()\n",
    "test_eq(is_export(cell, 'export'), ('export', True))\n",
    "cell['source'] = \"// exports\"\n",
    "test_eq(is_export(cell, 'export'), ('export', True))\n",
    "cell['source'] = \"// exporti\"\n",
    "test_eq(is_export(cell, 'export'), ('export', False))\n",
    "cell['source'] = \"// export mod\"\n",
    "test_eq(is_export(cell, 'export'), ('mod', True))"
   ]
  },
  {
   "cell_type": "code",
   "execution_count": 24,
   "metadata": {},
   "outputs": [],
   "source": [
    "#hide\n",
    "cell['source'] = \"// export mod.file\"\n",
    "test_eq(is_export(cell, 'export'), (f'mod{os.path.sep}file', True))\n",
    "cell['source'] = \"// exporti mod.file\"\n",
    "test_eq(is_export(cell, 'export'), (f'mod{os.path.sep}file', False))\n",
    "cell['source'] = \"// expt mod.file\"\n",
    "assert is_export(cell, 'export') is None\n",
    "cell['source'] = \"// exportmod.file\"\n",
    "assert is_export(cell, 'export') is None\n",
    "cell['source'] = \"// exportsmod.file\"\n",
    "assert is_export(cell, 'export') is None\n",
    "cell['source'] = \"// exporti mod file\"\n",
    "assert is_export(cell, 'export') is None"
   ]
  },
  {
   "cell_type": "code",
   "execution_count": 25,
   "metadata": {},
   "outputs": [],
   "source": [
    "#export\n",
    "_re_default_exp = _mk_flag_re('default_exp', 1, \"Matches any line with //default_exp with a module name\")"
   ]
  },
  {
   "cell_type": "code",
   "execution_count": 26,
   "metadata": {},
   "outputs": [],
   "source": [
    "#export\n",
    "def find_default_export(cells):\n",
    "    \"Find in `cells` the default export module.\"\n",
    "    res = L(cells).map_first(check_re, pat=_re_default_exp)\n",
    "    return res.groups()[0] if res else None"
   ]
  },
  {
   "cell_type": "markdown",
   "metadata": {},
   "source": [
    "Stops at the first cell containing `// default_exp` (if there are several) and returns the value behind. Returns `None` if there are no cell with that code."
   ]
  },
  {
   "cell_type": "code",
   "execution_count": 27,
   "metadata": {},
   "outputs": [],
   "source": [
    "test_eq(find_default_export(test_nb['cells']), 'test')\n",
    "assert find_default_export(test_nb['cells'][2:]) is None"
   ]
  },
  {
   "cell_type": "code",
   "execution_count": 28,
   "metadata": {},
   "outputs": [],
   "source": [
    "#hide\n",
    "mods = [f'mod{i}' for i in range(3)]\n",
    "cells = [{'cell_type': 'code', 'source': f'//default_exp {mod}'} for mod in mods]\n",
    "for i, mod in enumerate(mods): test_eq(mod, find_default_export(cells[i:]))"
   ]
  },
  {
   "cell_type": "markdown",
   "metadata": {},
   "source": [
    "### Listing all exported objects"
   ]
  },
  {
   "cell_type": "markdown",
   "metadata": {},
   "source": [
    "Until now the above code has been verbatim to the ```00_export.ipynb``` from nbdev minus changes to regexes swapping '#' to '//'.\n",
    "Now Scala syntax parsing is required as well as a target build infrastructure (sbt, mill, or Ammonite scripts)."
   ]
  },
  {
   "cell_type": "markdown",
   "metadata": {},
   "source": [
    "For documentation we need to extract out the names of our classes, objects, methods, etc including:\n",
    "- def \n",
    "- object\n",
    "- class | abstract class | \n",
    "- case class\n",
    "- trait\n",
    "- sealed trait\n",
    "- abstract\n",
    "- package\n",
    "- override\n",
    "- private?\n",
    "- implicit\n",
    "- protected\n",
    "- import\n",
    "- extends \n",
    "- final "
   ]
  },
  {
   "cell_type": "code",
   "execution_count": 29,
   "metadata": {},
   "outputs": [],
   "source": [
    "#export\n",
    "_re_class_func_def = re.compile(r\"\"\"\n",
    "# Catches any function or class or trait or case class or object definition\n",
    "(?:abstract\\s+class|case\\s+class|class|object|trait|sealed\\s+trait|implicit\\s+def|def)  # Non-catching group for def or class\n",
    "\\s+            # One whitespace or more\n",
    "([^\\(\\s]+)     # Catching group with any character except an opening parenthesis or a whitespace (name)\n",
    "\\s*            # Any number of whitespace\n",
    "(?:\\(|:|{)       # Non-catching group with either an opening parenthesis or a : (classes don't need ())\n",
    "\"\"\", re.MULTILINE | re.VERBOSE)"
   ]
  },
  {
   "cell_type": "code",
   "execution_count": 30,
   "metadata": {},
   "outputs": [],
   "source": [
    "#hide\n",
    "test_eq(_re_class_func_def.search(\" class Class{ }\").groups(), ('Class',))\n",
    "test_eq(_re_class_func_def.search(\"  class Class(w: Int) extends Module {}\").groups(), ('Class',))\n",
    "test_eq(_re_class_func_def.search(\"abstract  class  Class(w: Int) {}\").groups(), ('Class',))\n",
    "test_eq(_re_class_func_def.search(\"case  class Class(w: Int)\").groups(), ('Class',))\n",
    "test_eq(_re_class_func_def.search(\"object Test{}\").groups(), ('Test',))\n",
    "test_eq(_re_class_func_def.search(\"trait  Test{} \").groups(), ('Test',))\n",
    "test_eq(_re_class_func_def.search(\"sealed  trait  Test{} \").groups(), ('Test',))\n",
    "test_eq(_re_class_func_def.search(\"def func(a: Int): Int = {}\").groups(), ('func',))\n",
    "test_eq(_re_class_func_def.search(\"def func(a: Int) = {}\").groups(), ('func',))\n",
    "test_eq(_re_class_func_def.search(\"implicit def func(a: Int) = {}\").groups(), ('func',))"
   ]
  },
  {
   "cell_type": "code",
   "execution_count": 31,
   "metadata": {},
   "outputs": [],
   "source": [
    "#export\n",
    "def export_names(code):\n",
    "    \"Find the names of objects, functions or classes defined in `code` that are exported.\"\n",
    "    names = _re_class_func_def.findall(code)\n",
    "    return names"
   ]
  },
  {
   "cell_type": "markdown",
   "metadata": {},
   "source": [
    "This function finds all of the function/class/object names."
   ]
  },
  {
   "cell_type": "code",
   "execution_count": 32,
   "metadata": {},
   "outputs": [],
   "source": [
    "test_eq(export_names(\"def my_func(x: Int): Unit = {\\n\\tprint(x)\\n}\\n class MyClass(){}\"), [\"my_func\", \"MyClass\"])"
   ]
  },
  {
   "cell_type": "code",
   "execution_count": 33,
   "metadata": {},
   "outputs": [],
   "source": [
    "#hide\n",
    "#Indented funcs are ignored (funcs inside a class)\n",
    "test_eq(export_names(\"  def my_func(x)= x + 1\\n  pass\\nclass MyClass(){}\"), [\"my_func\", \"MyClass\"])\n",
    "test_eq(export_names(\"  def my_func(x)= x + 1\\n  pass\\nobject MyClass(){}\"), [\"my_func\", \"MyClass\"])\n",
    "test_eq(export_names(\"  implicit def my_func(x)= x + 1\\n  pass\\nobject MyClass(){}\"), [\"my_func\", \"MyClass\"])\n",
    "\n",
    "test_eq(export_names(\"  case class Datastruct(x)= x + 1\\n  pass\\n abstract class MyClass(){}\"), [\"Datastruct\", \"MyClass\"])\n",
    "test_eq(export_names(\"  seal trait Equal(x)= x + 1\\n  pass\\n trait NotEqual{}\"), [\"Equal\", \"NotEqual\"])\n",
    "\n",
    "\n",
    "#trailing spaces\n",
    "test_eq(export_names(\"def my_func () = {}\\n  pass\\nclass MyClass():\"), [\"my_func\", \"MyClass\"])\n",
    "\n",
    "#class without parenthesis\n",
    "test_eq(export_names(\"def my_func ()= Unit()\\n  pass\\nclass MyClass {}\"), [\"my_func\", \"MyClass\"])\n",
    "\n",
    "#try, except and other keywords should not be picked up (these can look like object def with type annotation)\n",
    "test_eq(export_names(\"try:\\n    a=1\\nexcept:\\n    b=2\"), [])\n",
    "test_eq(export_names(\"try:\\n    this_might_work\\nexcept:\\n    b=2\"), [])"
   ]
  },
  {
   "cell_type": "markdown",
   "metadata": {},
   "source": [
    "todo need to handle imports in the form:\n",
    "```scala\n",
    "    import $file.ToImport, ToImport._\n",
    "```\n",
    "\n",
    "where ToImport.sc is the name of the module we extracted code to."
   ]
  },
  {
   "cell_type": "markdown",
   "metadata": {},
   "source": [
    "## Create the library"
   ]
  },
  {
   "cell_type": "markdown",
   "metadata": {},
   "source": [
    "### Saving an index"
   ]
  },
  {
   "cell_type": "markdown",
   "metadata": {},
   "source": [
    "To be able to build back a correspondence between functions and the notebooks they are defined in, we need to store an index. It's done in the private module <code>_nbdev</code> inside your library, and the following function are used to define it."
   ]
  },
  {
   "cell_type": "code",
   "execution_count": 34,
   "metadata": {},
   "outputs": [],
   "source": [
    "#export\n",
    "_re_index_custom = re.compile(r'def custom_doc_links\\(name\\):(.*)$', re.DOTALL)"
   ]
  },
  {
   "cell_type": "code",
   "execution_count": 35,
   "metadata": {},
   "outputs": [],
   "source": [
    "#export\n",
    "def reset_nbdev_module():\n",
    "    \"Create a skeleton for <code>_nbdev</code>\"\n",
    "    fname = Config().path(\"lib_path\")/'_nbdev.py'\n",
    "    fname.parent.mkdir(parents=True, exist_ok=True)\n",
    "    sep = '\\n'* (int(Config().get('cell_spacing', '1'))+1)\n",
    "    if fname.is_file():\n",
    "        with open(fname, 'r') as f: search = _re_index_custom.search(f.read())\n",
    "    else: search = None\n",
    "    prev_code = search.groups()[0] if search is not None else ' return None\\n'\n",
    "    with open(fname, 'w') as f:\n",
    "        f.write(f\"# AUTOGENERATED BY NBDEV! DO NOT EDIT!\")\n",
    "        f.write('\\n\\n__all__ = [\"index\", \"modules\", \"custom_doc_links\", \"git_url\"]')\n",
    "        f.write('\\n\\nindex = {}')\n",
    "        f.write('\\n\\nmodules = []')\n",
    "        f.write(f'\\n\\ndoc_url = \"{Config().doc_host}{Config().doc_baseurl}\"')\n",
    "        f.write(f'\\n\\ngit_url = \"{Config().git_url}\"')\n",
    "        f.write(f'{sep}def custom_doc_links(name):{prev_code}')"
   ]
  },
  {
   "cell_type": "code",
   "execution_count": 36,
   "metadata": {},
   "outputs": [],
   "source": [
    "#export\n",
    "class _EmptyModule():\n",
    "    def __init__(self):\n",
    "        self.index,self.modules = {},[]\n",
    "        self.doc_url,self.git_url = f\"{Config().doc_host}{Config().doc_baseurl}\",Config().git_url\n",
    "\n",
    "    def custom_doc_links(self, name): return None"
   ]
  },
  {
   "cell_type": "code",
   "execution_count": 37,
   "metadata": {},
   "outputs": [],
   "source": [
    "#export\n",
    "def get_nbdev_module():\n",
    "    \"Reads <code>_nbdev</code>\"\n",
    "    try:\n",
    "        spec = importlib.util.spec_from_file_location(f\"{Config().lib_name}._nbdev\", Config().path(\"lib_path\")/'_nbdev.py')\n",
    "        mod = importlib.util.module_from_spec(spec)\n",
    "        spec.loader.exec_module(mod)\n",
    "        return mod\n",
    "    except: return _EmptyModule()"
   ]
  },
  {
   "cell_type": "code",
   "execution_count": 38,
   "metadata": {},
   "outputs": [],
   "source": [
    "#export\n",
    "_re_index_idx = re.compile(r'index\\s*=\\s*{[^}]*}')\n",
    "_re_index_mod = re.compile(r'modules\\s*=\\s*\\[[^\\]]*\\]')"
   ]
  },
  {
   "cell_type": "code",
   "execution_count": 39,
   "metadata": {},
   "outputs": [],
   "source": [
    "#export\n",
    "def save_nbdev_module(mod):\n",
    "    \"Save `mod` inside <code>_nbdev</code>\"\n",
    "    fname = Config().path(\"lib_path\")/'_nbdev.py'\n",
    "    with open(fname, 'r') as f: code = f.read()\n",
    "    t = r',\\n         '.join([f'\"{k}\": \"{v}\"' for k,v in mod.index.items()])\n",
    "    code = _re_index_idx.sub(\"index = {\"+ t +\"}\", code)\n",
    "    t = r',\\n           '.join(['\"' + f.replace('\\\\','/') + '\"' for f in mod.modules])\n",
    "    code = _re_index_mod.sub(f\"modules = [{t}]\", code)\n",
    "    with open(fname, 'w') as f: f.write(code)"
   ]
  },
  {
   "cell_type": "markdown",
   "metadata": {},
   "source": [
    "this creates the _nvdev.py file."
   ]
  },
  {
   "cell_type": "code",
   "execution_count": 40,
   "metadata": {},
   "outputs": [],
   "source": [
    "#hide\n",
    "ind,ind_bak = Config().path(\"lib_path\")/'_nbdev.py',Config().path(\"lib_path\")/'_nbdev.bak'\n",
    "if ind.exists(): shutil.move(ind, ind_bak)\n",
    "try:\n",
    "    reset_nbdev_module()\n",
    "    mod = get_nbdev_module()\n",
    "    test_eq(mod.index, {})\n",
    "    test_eq(mod.modules, [])\n",
    "\n",
    "    mod.index = {'foo':'bar'}\n",
    "    mod.modules.append('lala.bla')\n",
    "    save_nbdev_module(mod)\n",
    "\n",
    "    mod = get_nbdev_module()\n",
    "    test_eq(mod.index, {'foo':'bar'})\n",
    "    test_eq(mod.modules, ['lala.bla'])\n",
    "finally:\n",
    "    if ind_bak.exists(): shutil.move(ind_bak, ind)"
   ]
  },
  {
   "cell_type": "markdown",
   "metadata": {},
   "source": [
    "### Create the modules"
   ]
  },
  {
   "attachments": {
    "760534ae-50d7-47a4-9244-e742e1bc8dd6.png": {
     "image/png": "[encoded data removed]"
    }
   },
   "cell_type": "markdown",
   "metadata": {},
   "source": [
    "`return_type` tells us if the tuple returned will contain `list`s of lines or `str`ings with line breaks. \n",
    "\n",
    "We treat the first comment line as a flag\n",
    "![image.png](attachment:760534ae-50d7-47a4-9244-e742e1bc8dd6.png)"
   ]
  },
  {
   "cell_type": "code",
   "execution_count": 41,
   "metadata": {},
   "outputs": [],
   "source": [
    "#export\n",
    "def split_flags_and_code(cell, return_type=list):\n",
    "    \"Splits the `source` of a cell into 2 parts and returns (flags, code)\"\n",
    "    code_lines = cell['source'].split('\\n')\n",
    "    split_pos = 0 if code_lines[0].strip().startswith('//') else -1\n",
    "    for i, line in enumerate(code_lines):\n",
    "        if not line.startswith('//') and line.strip(): break\n",
    "    split_pos+=1\n",
    "    res = code_lines[:split_pos], code_lines[split_pos:]\n",
    "    if return_type is list: return res\n",
    "    return tuple('\\n'.join(r) for r in res)"
   ]
  },
  {
   "cell_type": "code",
   "execution_count": 42,
   "metadata": {},
   "outputs": [],
   "source": [
    "def _test_split_flags_and_code(expected_flags, expected_code):\n",
    "    cell = nbformat.v4.new_code_cell('\\n'.join(expected_flags + expected_code))\n",
    "    test_eq((expected_flags, expected_code), split_flags_and_code(cell))\n",
    "    expected=('\\n'.join(expected_flags), '\\n'.join(expected_code))\n",
    "    test_eq(expected, split_flags_and_code(cell, str))\n",
    "    \n",
    "_test_split_flags_and_code([\n",
    "    '//export'],\n",
    "    ['// TODO: write this function',\n",
    "    'def func(x) = ???'])"
   ]
  },
  {
   "cell_type": "code",
   "execution_count": 43,
   "metadata": {},
   "outputs": [],
   "source": [
    "#export\n",
    "def create_mod_file(fname, nb_path, bare=False):\n",
    "    \"Create a module file for `fname`.\"\n",
    "    bare = str(Config().get('bare', bare)) == 'True'\n",
    "    fname.parent.mkdir(parents=True, exist_ok=True)\n",
    "    file_path = os.path.relpath(nb_path, Config().config_file.parent).replace('\\\\', '/')\n",
    "#     print(f\"in create_mod_file, file_path: {file_path}\")\n",
    "    with open(fname, 'w') as f:\n",
    "        if not bare: f.write(f\"// AUTOGENERATED! DO NOT EDIT! File to edit: {file_path} (unless otherwise specified).\")\n",
    "#         f.write('\\n\\n__all__ = []')"
   ]
  },
  {
   "cell_type": "markdown",
   "metadata": {},
   "source": [
    "A new module filename is created each time a notebook has a cell marked with `#default_exp`. In your collection of notebooks, you should only have one notebook that creates a given module since they are re-created each time you do a library build (to ensure the library is clean). Note that any file you create manually will never be overwritten (unless it has the same name as one of the modules defined in a `#default_exp` cell) so you are responsible to clean up those yourself.\n",
    "\n",
    "`fname` is the notebook that contained the `#default_exp` cell."
   ]
  },
  {
   "cell_type": "code",
   "execution_count": 44,
   "metadata": {},
   "outputs": [],
   "source": [
    "#export\n",
    "def create_mod_files(files, to_dict=False, bare=False):\n",
    "    \"Create mod files for default exports found in `files`\"\n",
    "    modules = []\n",
    "    for f in files:\n",
    "        fname = Path(f)\n",
    "#         print(f\"in create_mod_files, {fname}\")\n",
    "        nb = read_nb(fname)\n",
    "        default = find_default_export(nb['cells'])\n",
    "        if default is not None:\n",
    "            default = os.path.sep.join(default.split('.'))\n",
    "            modules.append(default)\n",
    "            if not to_dict:\n",
    "                create_mod_file(Config().path(\"lib_path\")/f'{default}.sc', Config().path(\"nbs_path\")/f'{fname}', bare=bare)\n",
    "    return modules"
   ]
  },
  {
   "cell_type": "markdown",
   "metadata": {},
   "source": [
    "Create module files for all `#default_export` flags found in `files` and return a list containing the names of modules created. \n",
    "\n",
    "Note: The number if modules returned will be less that the number of files passed in if files do not `#default_export`.\n",
    "\n",
    "By creating all module files before calling `_notebook2script`, the order of execution no longer matters - so you can now export to a notebook that is run \"later\".\n",
    "\n",
    "You might still have problems when\n",
    "- converting a subset of notebooks or\n",
    "- exporting to a module that does not have a `#default_export` yet\n",
    "\n",
    "in which case `_notebook2script` will print warnings like;\n",
    "```\n",
    "Warning: Exporting to \"core.py\" but this module is not part of this build\n",
    "```\n",
    "\n",
    "If you see a warning like this\n",
    "- and the module file (e.g. \"core.py\") does not exist, you'll see a `FileNotFoundError`\n",
    "- if the module file exists, the exported cell will be written - even if the exported cell is already in the module file"
   ]
  },
  {
   "cell_type": "code",
   "execution_count": 45,
   "metadata": {},
   "outputs": [],
   "source": [
    "#export\n",
    "def _notebook2script(fname, modules, silent=False, to_dict=None, bare=False):\n",
    "    \"Finds cells starting with `//export` and puts them into a module created by `create_mod_files`\"\n",
    "    bare = str(Config().get('bare', bare)) == 'True'\n",
    "    if os.environ.get('IN_TEST',0): return  # don't export if running tests\n",
    "    sep = '\\n'* (int(Config().get('cell_spacing', '1'))+1)\n",
    "    fname = Path(fname)\n",
    "    nb = read_nb(fname)\n",
    "    default = find_default_export(nb['cells'])\n",
    "    if default is not None:\n",
    "        default = os.path.sep.join(default.split('.'))\n",
    "    mod = get_nbdev_module()\n",
    "    exports = [is_export(c, default) for c in nb['cells']]\n",
    "    cells = [(i,c,e) for i,(c,e) in enumerate(zip(nb['cells'],exports)) if e is not None]\n",
    "    for i,c,(e,a) in cells:\n",
    "        if e not in modules: print(f'Warning: Exporting to \"{e}.sc\" but this module is not part of this build')\n",
    "        fname_out = Config().path(\"lib_path\")/f'{e}.sc'\n",
    "        if bare: orig = \"\\n\"\n",
    "        else: orig = (f'// {\"\" if a else \"Internal \"}C' if e==default else f'// Comes from {fname.name}, c') + 'ell\\n'\n",
    "        flag_lines,code_lines = split_flags_and_code(c)\n",
    "#         code_lines = _deal_import(code_lines, fname_out)\n",
    "        code = sep + orig + '\\n'.join(code_lines)\n",
    "        names = export_names(code)\n",
    "        flags = '\\n'.join(flag_lines)\n",
    "#         extra,code = extra_add(flags, code)\n",
    "#         code = _from_future_import(fname_out, flags, code, to_dict)\n",
    "#         if a:\n",
    "#             if to_dict is None: _add2all(fname_out, [f\"'{f}'\" for f in names if '.' not in f and len(f) > 0] + extra)\n",
    "        mod.index.update({f: fname.name for f in names})\n",
    "        code = re.sub(r' +$', '', code, flags=re.MULTILINE)\n",
    "        if code != sep + orig[:-1]:\n",
    "            if to_dict is not None: to_dict[e].append((i, fname, code))\n",
    "            else:\n",
    "                with open(fname_out, 'a', encoding='utf8') as f: f.write(code)\n",
    "        if f'{e}.sc' not in mod.modules: mod.modules.append(f'{e}.sc')\n",
    "    save_nbdev_module(mod)\n",
    "\n",
    "    if not silent: print(f\"Converted {fname.name}.\")\n",
    "    return to_dict"
   ]
  },
  {
   "cell_type": "code",
   "execution_count": 47,
   "metadata": {},
   "outputs": [
    {
     "name": "stdout",
     "output_type": "stream",
     "text": [
      "Converted test.ipynb.\n"
     ]
    }
   ],
   "source": [
    "#hide\n",
    "if not os.environ.get('IN_TEST',0):\n",
    "    modules = create_mod_files(glob.glob('test.ipynb'))\n",
    "    _notebook2script('test.ipynb', modules)"
   ]
  },
  {
   "cell_type": "code",
   "execution_count": 49,
   "metadata": {},
   "outputs": [],
   "source": [
    "#hide\n",
    "with open(Config().path(\"lib_path\")/('test.sc')) as f: l = f.readline()\n",
    "test_eq(l, '// AUTOGENERATED! DO NOT EDIT! File to edit: nbs/test.ipynb (unless otherwise specified).\\n')"
   ]
  },
  {
   "cell_type": "code",
   "execution_count": 50,
   "metadata": {},
   "outputs": [],
   "source": [
    "#export\n",
    "_re_baseurl = re.compile('^baseurl\\s*:.*$', re.MULTILINE)"
   ]
  },
  {
   "cell_type": "code",
   "execution_count": 51,
   "metadata": {},
   "outputs": [],
   "source": [
    "#export\n",
    "def update_baseurl():\n",
    "    \"Add or update `baseurl` in `_config.yml` for the docs\"\n",
    "    fname = Config().path(\"doc_path\")/'_config.yml'\n",
    "    if not fname.exists(): return\n",
    "    with open(fname, 'r') as f: code = f.read()\n",
    "    if _re_baseurl.search(code) is None: code = code + f\"\\nbaseurl: {Config().doc_baseurl}\"\n",
    "    else: code = _re_baseurl.sub(f\"baseurl: {Config().doc_baseurl}\", code)\n",
    "    with open(fname, 'w') as f: f.write(code)"
   ]
  },
  {
   "cell_type": "code",
   "execution_count": 52,
   "metadata": {},
   "outputs": [],
   "source": [
    "#export\n",
    "#hide\n",
    "def _get_paths(pth:str, names:list): return [Path(pth)/n for n in names if '/.' not in pth] "
   ]
  },
  {
   "cell_type": "code",
   "execution_count": 53,
   "metadata": {},
   "outputs": [],
   "source": [
    "#export\n",
    "def nbglob(fname=None, recursive=False) -> L:\n",
    "    \"Find all notebooks in a directory given a glob. Ignores hidden directories and filenames starting with `_`\"\n",
    "    fname = Path(fname) if fname else Config().path(\"nbs_path\")\n",
    "#     print(f'fname: {fname}')\n",
    "    if recursive: fls = L(os.walk(fname)).map(lambda x: _get_paths(x[0], x[2])).concat()\n",
    "    else: fls = fname.glob('*.ipynb')\n",
    "#     for i, f in enumerate(fls):\n",
    "#         print(f'file {i}: {f}')\n",
    "    return L([f for f in fls if not f.name.startswith('_') and f.name.endswith('.ipynb')])"
   ]
  },
  {
   "cell_type": "code",
   "execution_count": 55,
   "metadata": {},
   "outputs": [
    {
     "data": {
      "text/plain": [
       "(#5) [Path('/Users/jasonvranek/code/notebooks/chisel-nbdev/nbs/ToImport.ipynb'),Path('/Users/jasonvranek/code/notebooks/chisel-nbdev/nbs/import_chisel_mod.ipynb'),Path('/Users/jasonvranek/code/notebooks/chisel-nbdev/nbs/import_composed_mod.ipynb'),Path('/Users/jasonvranek/code/notebooks/chisel-nbdev/nbs/export_scala.ipynb'),Path('/Users/jasonvranek/code/notebooks/chisel-nbdev/nbs/test.ipynb')]"
      ]
     },
     "execution_count": 55,
     "metadata": {},
     "output_type": "execute_result"
    }
   ],
   "source": [
    "f = Config().path(\"nbs_path\") # works for recursive = true\n",
    "# f = Path('/Users/jasonvranek/code/notebooks/chisel-nbdev/nbs') # works for recursive = true\n",
    "# f = Path('/Users/jasonvranek/code/notebooks/chisel-nbdev/nbs/test.ipynb')\n",
    "# fs = f.glob('')\n",
    "# [file for file in fs]\n",
    "# nbglob(f)\n",
    "nbglob(f, recursive=True)\n",
    "# nbglob()"
   ]
  },
  {
   "cell_type": "code",
   "execution_count": 56,
   "metadata": {},
   "outputs": [],
   "source": [
    "assert not nbglob(recursive=True).filter(lambda x: '.ipynb_checkpoints' in str(x))"
   ]
  },
  {
   "cell_type": "code",
   "execution_count": 57,
   "metadata": {},
   "outputs": [],
   "source": [
    "#export\n",
    "def notebook2script(fname=None, silent=False, to_dict=False, bare=False, recursive=False):\n",
    "    \"Convert notebooks matching `fname` to modules\"\n",
    "    # initial checks\n",
    "    if os.environ.get('IN_TEST',0): return  # don't export if running tests\n",
    "    if fname is None:\n",
    "        reset_nbdev_module()\n",
    "#         update_version()\n",
    "        update_baseurl()\n",
    "    files = nbglob(fname=fname, recursive=recursive)\n",
    "    d = collections.defaultdict(list) if to_dict else None\n",
    "    modules = create_mod_files(files, to_dict, bare=bare)\n",
    "    for f in sorted(files): d = _notebook2script(f, modules, silent=silent, to_dict=d, bare=bare)\n",
    "    return d"
   ]
  },
  {
   "cell_type": "markdown",
   "metadata": {},
   "source": [
    "Finds cells starting with `#export` and puts them into the appropriate module. If `fname` is not specified, this will convert all notebook not beginning with an underscore in the `nb_folder` defined in `setting.ini`. Otherwise `fname` can be a single filename or a glob expression.\n",
    "\n",
    "`silent` makes the command not print any statement and `to_dict` is used internally to convert the library to a dictionary. "
   ]
  },
  {
   "cell_type": "code",
   "execution_count": 60,
   "metadata": {},
   "outputs": [
    {
     "name": "stdout",
     "output_type": "stream",
     "text": [
      "Converted ToImport.ipynb.\n",
      "Converted export_scala.ipynb.\n",
      "Converted import_chisel_mod.ipynb.\n",
      "Converted import_composed_mod.ipynb.\n",
      "Converted test.ipynb.\n"
     ]
    }
   ],
   "source": [
    "#hide\n",
    "notebook2script()"
   ]
  },
  {
   "cell_type": "code",
   "execution_count": null,
   "metadata": {},
   "outputs": [],
   "source": []
  },
  {
   "cell_type": "code",
   "execution_count": null,
   "metadata": {},
   "outputs": [],
   "source": []
  }
 ],
 "metadata": {
  "kernelspec": {
   "display_name": "Python 3",
   "language": "python",
   "name": "python3"
  },
  "language_info": {
   "codemirror_mode": {
    "name": "ipython",
    "version": 3
   },
   "file_extension": ".py",
   "mimetype": "text/x-python",
   "name": "python",
   "nbconvert_exporter": "python",
   "pygments_lexer": "ipython3",
   "version": "3.8.2"
  }
 },
 "nbformat": 4,
 "nbformat_minor": 4
}
