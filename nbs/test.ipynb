{
 "cells": [
  {
   "cell_type": "markdown",
   "metadata": {},
   "source": [
    "# Test Chisel notebook\n",
    "> An example that defines a module over multiple notebook cells."
   ]
  },
  {
   "cell_type": "markdown",
   "metadata": {},
   "source": [
    "We must first import our Chisel dependencies:\n",
    "```Scala\n",
    "import $file.^.source.load_ivy\n",
    "```"
   ]
  },
  {
   "cell_type": "code",
   "execution_count": 1,
   "metadata": {},
   "outputs": [
    {
     "data": {
      "text/plain": [
       "\u001b[32mimport \u001b[39m\u001b[36m$file.$                \u001b[39m"
      ]
     },
     "execution_count": 1,
     "metadata": {},
     "output_type": "execute_result"
    }
   ],
   "source": [
    "//export\n",
    "//default_exp test\n",
    "import $file.^.source.load_ivy"
   ]
  },
  {
   "cell_type": "code",
   "execution_count": 2,
   "metadata": {},
   "outputs": [
    {
     "data": {
      "text/plain": [
       "\u001b[32mimport \u001b[39m\u001b[36mchisel3.{Input => Input}\n",
       "\u001b[39m\n",
       "\u001b[32mimport \u001b[39m\u001b[36mchisel3._\n",
       "\u001b[39m\n",
       "\u001b[32mimport \u001b[39m\u001b[36mchisel3.util._\n",
       "\u001b[39m\n",
       "\u001b[32mimport \u001b[39m\u001b[36mchisel3.tester._\n",
       "\u001b[39m\n",
       "\u001b[32mimport \u001b[39m\u001b[36mchisel3.iotesters.{ChiselFlatSpec, Driver, PeekPokeTester}\n",
       "\u001b[39m\n",
       "\u001b[32mimport \u001b[39m\u001b[36mchisel3.tester.RawTester.{test => Test}\u001b[39m"
      ]
     },
     "execution_count": 2,
     "metadata": {},
     "output_type": "execute_result"
    }
   ],
   "source": [
    "//export\n",
    "import chisel3.{Input => Input}\n",
    "import chisel3._\n",
    "import chisel3.util._\n",
    "import chisel3.tester._\n",
    "import chisel3.iotesters.{ChiselFlatSpec, Driver, PeekPokeTester}\n",
    "import chisel3.tester.RawTester.{test => Test}"
   ]
  },
  {
   "cell_type": "markdown",
   "metadata": {},
   "source": [
    "### define the IO\n",
    "> If we define our IO as a standalone bundle we are able to reuse it for other modules"
   ]
  },
  {
   "cell_type": "code",
   "execution_count": 3,
   "metadata": {},
   "outputs": [
    {
     "data": {
      "text/plain": [
       "defined \u001b[32mclass\u001b[39m \u001b[36mALUIO\u001b[39m"
      ]
     },
     "execution_count": 3,
     "metadata": {},
     "output_type": "execute_result"
    }
   ],
   "source": [
    "//export\n",
    "class ALUIO(width: Int) extends Bundle {\n",
    "    val a = Input(SInt(width.W))\n",
    "    val b = Input(SInt(width.W))\n",
    "    val out = Output(SInt())\n",
    "\n",
    "    override def cloneType = new ALUIO(width).asInstanceOf[this.type]\n",
    "}"
   ]
  },
  {
   "cell_type": "markdown",
   "metadata": {},
   "source": [
    "### A skeleton module will be parent class of all of our methods\n",
    "> This module currently has only IO defined. We will use Scala implicits to inject functionality into it."
   ]
  },
  {
   "cell_type": "code",
   "execution_count": 4,
   "metadata": {},
   "outputs": [
    {
     "data": {
      "text/plain": [
       "defined \u001b[32mclass\u001b[39m \u001b[36mALUSkeleton\u001b[39m"
      ]
     },
     "execution_count": 4,
     "metadata": {},
     "output_type": "execute_result"
    }
   ],
   "source": [
    "//export \n",
    "class ALUSkeleton(width: Int) extends Module {\n",
    "    val io = IO(new ALUIO(width))\n",
    "}"
   ]
  },
  {
   "cell_type": "markdown",
   "metadata": {},
   "source": [
    "### The add method from Add class will be injected into the ALUSkeleton class\n",
    "> This syntax will be used to inject the ```add``` method into our skeleton module:\n",
    "```Scala\n",
    "class Add(m: ALUSkeleton) {\n",
    "    def add(a: SInt, b: SInt): SInt = a +& b\n",
    "}\n",
    "```"
   ]
  },
  {
   "cell_type": "code",
   "execution_count": 5,
   "metadata": {},
   "outputs": [
    {
     "data": {
      "text/plain": [
       "defined \u001b[32mclass\u001b[39m \u001b[36mAdd\u001b[39m"
      ]
     },
     "execution_count": 5,
     "metadata": {},
     "output_type": "execute_result"
    }
   ],
   "source": [
    "//export \n",
    "class Add(m: ALUSkeleton) {\n",
    "    def add(a: SInt, b: SInt): SInt = a +& b\n",
    "}"
   ]
  },
  {
   "cell_type": "markdown",
   "metadata": {},
   "source": [
    "Similarly we can define a `sub` method that will be added"
   ]
  },
  {
   "cell_type": "code",
   "execution_count": 6,
   "metadata": {},
   "outputs": [
    {
     "name": "stdout",
     "output_type": "stream",
     "text": [
      "changed auto-gen file\n"
     ]
    },
    {
     "data": {
      "text/plain": [
       "defined \u001b[32mclass\u001b[39m \u001b[36mSub\u001b[39m"
      ]
     },
     "execution_count": 6,
     "metadata": {},
     "output_type": "execute_result"
    }
   ],
   "source": [
    "//export \n",
    "class Sub(m: ALUSkeleton) {\n",
    "    def sub(a: SInt, b: SInt): SInt = a -& b\n",
    "}\n",
    "println(\"changed auto-gen file\")"
   ]
  },
  {
   "cell_type": "markdown",
   "metadata": {},
   "source": [
    "### Here multiple methods will be injected\n",
    "> Both `mul` and `div` will be injected."
   ]
  },
  {
   "cell_type": "code",
   "execution_count": 7,
   "metadata": {},
   "outputs": [
    {
     "data": {
      "text/plain": [
       "defined \u001b[32mclass\u001b[39m \u001b[36mMulDiv\u001b[39m"
      ]
     },
     "execution_count": 7,
     "metadata": {},
     "output_type": "execute_result"
    }
   ],
   "source": [
    "//export \n",
    "class MulDiv(m: ALUSkeleton) {\n",
    "    println(\"changed auto-gen file\")\n",
    "    def mul(a: SInt, b: SInt): SInt = a * b\n",
    "    def div(a: SInt, b: SInt): SInt = a / b\n",
    "}"
   ]
  },
  {
   "cell_type": "markdown",
   "metadata": {},
   "source": [
    "### Adding the methods to our skeleton module:\n",
    "> implicit def call will add the methods of the RHS classes to the implicit def parameter: ALUSkeleton class.\n",
    "Note the name ```includeAdd``` does not matter as it won't be called again, but is good practice to give it a clear name of what it is doing (i.e includAdd <=> include the Add class' methods)"
   ]
  },
  {
   "cell_type": "code",
   "execution_count": 8,
   "metadata": {},
   "outputs": [
    {
     "data": {
      "text/plain": [
       "defined \u001b[32mfunction\u001b[39m \u001b[36mincludeAdd\u001b[39m\n",
       "defined \u001b[32mfunction\u001b[39m \u001b[36mincludeSub\u001b[39m\n",
       "defined \u001b[32mfunction\u001b[39m \u001b[36mincludeMulDiv\u001b[39m"
      ]
     },
     "execution_count": 8,
     "metadata": {},
     "output_type": "execute_result"
    }
   ],
   "source": [
    "//export \n",
    "implicit def includeAdd(m: ALUSkeleton) = new Add(m)\n",
    "implicit def includeSub(m: ALUSkeleton) = new Sub(m)\n",
    "implicit def includeMulDiv(m: ALUSkeleton) = new MulDiv(m)"
   ]
  },
  {
   "cell_type": "markdown",
   "metadata": {},
   "source": [
    "### Use our implicitly defined functions\n",
    "We extend our ALUSkeleton giving us access to all of our implicitly defined methods. We can match based on parameterized operator (at compile time) and then only instantiate hardware for that given operation. "
   ]
  },
  {
   "cell_type": "code",
   "execution_count": 11,
   "metadata": {},
   "outputs": [
    {
     "data": {
      "text/plain": [
       "defined \u001b[32mclass\u001b[39m \u001b[36mOperator\u001b[39m"
      ]
     },
     "execution_count": 11,
     "metadata": {},
     "output_type": "execute_result"
    }
   ],
   "source": [
    "//export\n",
    "/** This Operator module performs 1 type of operation depending on 'op' parameter */\n",
    "class Operator(op: String, width: Int) extends ALUSkeleton(width) {\n",
    "    op match {\n",
    "        // Call on the implicit function\n",
    "        case \"+\" => io.out := this.add(io.a, io.b)\n",
    "        case \"-\" => io.out := this.sub(io.a, io.b)\n",
    "        case \"*\" => io.out := this.mul(io.a, io.b)\n",
    "        case \"/\" => io.out := this.div(io.a, io.b)\n",
    "        case _ => io.out := 0.S\n",
    "    }\n",
    "}"
   ]
  },
  {
   "cell_type": "markdown",
   "metadata": {},
   "source": [
    "### Summary\n",
    "> While this includes a few more steps than simply implementing everything directly into an Operator module, it can actually save some headaches when building much larger moudules. The best case for developing this way is if you're defining a specific arithmetic implmentation, which this example was meant to outline. For example a multiplier may require many sub methods to implement, and these implementation details can be hidden from the module using it. Also working like this puts you in the mindset of pulling out independent pieces of logic to write functions for that can later be reused in other modules. "
   ]
  },
  {
   "cell_type": "code",
   "execution_count": 12,
   "metadata": {},
   "outputs": [
    {
     "name": "stdout",
     "output_type": "stream",
     "text": [
      "[\u001b[35minfo\u001b[0m] [0.001] Elaborating design...\n",
      "[\u001b[35minfo\u001b[0m] [0.164] Done elaborating.\n",
      "file loaded in 0.033898958 seconds, 6 symbols, 2 statements\n",
      "test Operator Success: 0 tests passed in 2 cycles in 0.056397 seconds 35.46 Hz\n",
      "[\u001b[35minfo\u001b[0m] [0.002] Elaborating design...\n",
      "[\u001b[35minfo\u001b[0m] [0.066] Done elaborating.\n",
      "file loaded in 0.023028458 seconds, 6 symbols, 2 statements\n",
      "test Operator Success: 0 tests passed in 2 cycles in 0.043912 seconds 45.55 Hz\n",
      "[\u001b[35minfo\u001b[0m] [0.001] Elaborating design...\n",
      "changed auto-gen file\n",
      "[\u001b[35minfo\u001b[0m] [0.066] Done elaborating.\n",
      "file loaded in 0.007488167 seconds, 6 symbols, 2 statements\n",
      "test Operator Success: 0 tests passed in 2 cycles in 0.009698 seconds 206.23 Hz\n",
      "[\u001b[35minfo\u001b[0m] [0.005] Elaborating design...\n",
      "changed auto-gen file\n",
      "[\u001b[35minfo\u001b[0m] [0.058] Done elaborating.\n",
      "file loaded in 0.02027775 seconds, 6 symbols, 2 statements\n",
      "test Operator Success: 0 tests passed in 2 cycles in 0.007809 seconds 256.12 Hz\n",
      "[\u001b[35minfo\u001b[0m] [0.001] Elaborating design...\n",
      "[\u001b[35minfo\u001b[0m] [0.069] Done elaborating.\n",
      "file loaded in 0.002808916 seconds, 6 symbols, 2 statements\n",
      "test Operator Success: 0 tests passed in 2 cycles in 0.011317 seconds 176.72 Hz\n"
     ]
    },
    {
     "data": {
      "text/plain": [
       "\u001b[36mwidth\u001b[39m: \u001b[32mInt\u001b[39m = \u001b[32m10\u001b[39m"
      ]
     },
     "execution_count": 12,
     "metadata": {},
     "output_type": "execute_result"
    }
   ],
   "source": [
    "//hide\n",
    "val width = 10\n",
    "Test(new Operator(op=\"+\", width)) { c =>\n",
    "    c.io.a.poke(5.S); c.io.b.poke(3.S)\n",
    "    c.io.out.expect(8.S)\n",
    "}\n",
    "\n",
    "\n",
    "Test(new Operator(op=\"-\", width)) { c =>\n",
    "    c.io.a.poke(5.S); c.io.b.poke(3.S)\n",
    "    c.io.out.expect(2.S)\n",
    "}\n",
    "\n",
    "\n",
    "Test(new Operator(op=\"*\", width)) { c =>\n",
    "    c.io.a.poke(5.S); c.io.b.poke(3.S)\n",
    "    c.io.out.expect(15.S)\n",
    "}\n",
    "\n",
    "\n",
    "Test(new Operator(op=\"/\", width)) { c =>\n",
    "    c.io.a.poke(5.S); c.io.b.poke(3.S)\n",
    "    c.io.out.expect(1.S)\n",
    "}\n",
    "\n",
    "\n",
    "Test(new Operator(op=\"%\", width)) { c =>\n",
    "    c.io.a.poke(5.S); c.io.b.poke(3.S)\n",
    "    c.io.out.expect(0.S)\n",
    "}"
   ]
  },
  {
   "cell_type": "code",
   "execution_count": 13,
   "metadata": {},
   "outputs": [
    {
     "data": {
      "text/plain": [
       "defined \u001b[32mclass\u001b[39m \u001b[36mTester\u001b[39m"
      ]
     },
     "execution_count": 13,
     "metadata": {},
     "output_type": "execute_result"
    }
   ],
   "source": [
    "//export\n",
    "class OperatorTester(c: Operator, op: String, width: Int) extends PeekPokeTester(c) {\n",
    "  // 100 random tests\n",
    "  val cycles = 10\n",
    "  import scala.util.Random\n",
    "  import scala.math.min\n",
    "  for (i <- 0 until cycles) {\n",
    "    val in_a = Random.nextInt(1 << (width - 1))\n",
    "    val in_b = Random.nextInt(1 << (width - 1))\n",
    "    poke(c.io.a, in_a)\n",
    "    poke(c.io.b, in_b)\n",
    "    val exp = op match {\n",
    "        case \"+\" => in_a + in_b\n",
    "        case \"-\" => in_a - in_b\n",
    "        case \"*\" => in_a * in_b\n",
    "        case \"/\" => in_a / in_b\n",
    "    }\n",
    "//     println(s\"$in_a $op $in_b = $exp\")\n",
    "    expect(c.io.out, exp)\n",
    "    }\n",
    "  }"
   ]
  },
  {
   "cell_type": "code",
   "execution_count": 14,
   "metadata": {},
   "outputs": [
    {
     "name": "stdout",
     "output_type": "stream",
     "text": [
      "[\u001b[35minfo\u001b[0m] [0.000] Elaborating design...\n",
      "[\u001b[35minfo\u001b[0m] [0.048] Done elaborating.\n",
      "Total FIRRTL Compile Time: 73.5 ms\n",
      "Total FIRRTL Compile Time: 47.2 ms\n",
      "End of dependency graph\n",
      "Circuit state created\n",
      "[\u001b[35minfo\u001b[0m] [0.001] SEED 1612850250836\n",
      "[\u001b[35minfo\u001b[0m] [0.005] 93 + 437 = 530\n",
      "[\u001b[35minfo\u001b[0m] [0.007] 373 + 347 = 720\n",
      "[\u001b[35minfo\u001b[0m] [0.008] 288 + 436 = 724\n",
      "[\u001b[35minfo\u001b[0m] [0.008] 266 + 332 = 598\n",
      "[\u001b[35minfo\u001b[0m] [0.009] 331 + 79 = 410\n",
      "[\u001b[35minfo\u001b[0m] [0.010] 460 + 209 = 669\n",
      "[\u001b[35minfo\u001b[0m] [0.010] 411 + 493 = 904\n",
      "[\u001b[35minfo\u001b[0m] [0.011] 283 + 468 = 751\n",
      "[\u001b[35minfo\u001b[0m] [0.011] 26 + 289 = 315\n",
      "[\u001b[35minfo\u001b[0m] [0.014] 44 + 256 = 300\n",
      "test Operator Success: 10 tests passed in 5 cycles taking 0.022560 seconds\n",
      "[\u001b[35minfo\u001b[0m] [0.016] RAN 0 CYCLES PASSED\n",
      "[\u001b[35minfo\u001b[0m] [0.000] Elaborating design...\n",
      "[\u001b[35minfo\u001b[0m] [0.012] Done elaborating.\n",
      "Total FIRRTL Compile Time: 47.1 ms\n",
      "Total FIRRTL Compile Time: 21.2 ms\n",
      "End of dependency graph\n",
      "Circuit state created\n",
      "[\u001b[35minfo\u001b[0m] [0.000] SEED 1612850251712\n",
      "[\u001b[35minfo\u001b[0m] [0.001] 331 - 101 = 230\n",
      "[\u001b[35minfo\u001b[0m] [0.002] 288 - 180 = 108\n",
      "[\u001b[35minfo\u001b[0m] [0.003] 97 - 475 = -378\n",
      "[\u001b[35minfo\u001b[0m] [0.005] 418 - 369 = 49\n",
      "[\u001b[35minfo\u001b[0m] [0.006] 99 - 294 = -195\n",
      "[\u001b[35minfo\u001b[0m] [0.006] 345 - 160 = 185\n",
      "[\u001b[35minfo\u001b[0m] [0.006] 151 - 242 = -91\n",
      "[\u001b[35minfo\u001b[0m] [0.007] 223 - 453 = -230\n",
      "[\u001b[35minfo\u001b[0m] [0.007] 351 - 11 = 340\n",
      "[\u001b[35minfo\u001b[0m] [0.007] 219 - 367 = -148\n",
      "test Operator Success: 10 tests passed in 5 cycles taking 0.012707 seconds\n",
      "[\u001b[35minfo\u001b[0m] [0.009] RAN 0 CYCLES PASSED\n",
      "[\u001b[35minfo\u001b[0m] [0.000] Elaborating design...\n",
      "changed auto-gen file\n",
      "[\u001b[35minfo\u001b[0m] [0.014] Done elaborating.\n",
      "Total FIRRTL Compile Time: 31.2 ms\n",
      "Total FIRRTL Compile Time: 23.0 ms\n",
      "End of dependency graph\n",
      "Circuit state created\n",
      "[\u001b[35minfo\u001b[0m] [0.000] SEED 1612850251881\n",
      "[\u001b[35minfo\u001b[0m] [0.002] 164 * 463 = 75932\n",
      "[\u001b[35minfo\u001b[0m] [0.003] 300 * 355 = 106500\n",
      "[\u001b[35minfo\u001b[0m] [0.005] 188 * 403 = 75764\n",
      "[\u001b[35minfo\u001b[0m] [0.005] 351 * 342 = 120042\n",
      "[\u001b[35minfo\u001b[0m] [0.006] 219 * 58 = 12702\n",
      "[\u001b[35minfo\u001b[0m] [0.006] 225 * 404 = 90900\n",
      "[\u001b[35minfo\u001b[0m] [0.007] 271 * 351 = 95121\n",
      "[\u001b[35minfo\u001b[0m] [0.007] 271 * 96 = 26016\n",
      "[\u001b[35minfo\u001b[0m] [0.007] 490 * 196 = 96040\n",
      "[\u001b[35minfo\u001b[0m] [0.010] 432 * 477 = 206064\n",
      "test Operator Success: 10 tests passed in 5 cycles taking 0.010990 seconds\n",
      "[\u001b[35minfo\u001b[0m] [0.010] RAN 0 CYCLES PASSED\n",
      "[\u001b[35minfo\u001b[0m] [0.000] Elaborating design...\n",
      "changed auto-gen file\n",
      "[\u001b[35minfo\u001b[0m] [0.012] Done elaborating.\n",
      "Total FIRRTL Compile Time: 38.9 ms\n",
      "Total FIRRTL Compile Time: 13.9 ms\n",
      "End of dependency graph\n",
      "Circuit state created\n",
      "[\u001b[35minfo\u001b[0m] [0.000] SEED 1612850252037\n",
      "[\u001b[35minfo\u001b[0m] [0.001] 428 / 479 = 0\n",
      "[\u001b[35minfo\u001b[0m] [0.002] 369 / 156 = 2\n",
      "[\u001b[35minfo\u001b[0m] [0.007] 486 / 154 = 3\n",
      "[\u001b[35minfo\u001b[0m] [0.008] 380 / 77 = 4\n",
      "[\u001b[35minfo\u001b[0m] [0.009] 447 / 448 = 0\n",
      "[\u001b[35minfo\u001b[0m] [0.009] 436 / 191 = 2\n",
      "[\u001b[35minfo\u001b[0m] [0.011] 363 / 223 = 1\n",
      "[\u001b[35minfo\u001b[0m] [0.011] 195 / 172 = 1\n",
      "[\u001b[35minfo\u001b[0m] [0.013] 65 / 161 = 0\n",
      "[\u001b[35minfo\u001b[0m] [0.013] 148 / 193 = 0\n",
      "test Operator Success: 10 tests passed in 5 cycles taking 0.015484 seconds\n",
      "[\u001b[35minfo\u001b[0m] [0.013] RAN 0 CYCLES PASSED\n",
      "SUCCESS!!\n"
     ]
    }
   ],
   "source": [
    "//hide\n",
    "for (op <- Seq(\"+\", \"-\", \"*\", \"/\")) {\n",
    "    assert(Driver(() => new Operator(op, width)) {c => new OperatorTester(c, op, width)})\n",
    "}\n",
    "println(\"SUCCESS!!\")"
   ]
  },
  {
   "cell_type": "markdown",
   "metadata": {},
   "source": [
    "### Some test funcs/classes/objects to be exported from this notebook:"
   ]
  },
  {
   "cell_type": "code",
   "execution_count": null,
   "metadata": {},
   "outputs": [],
   "source": [
    "//export NewScript\n",
    "def FuncToNewScript(): Unit = {print(\"hello world\")}"
   ]
  },
  {
   "cell_type": "code",
   "execution_count": null,
   "metadata": {},
   "outputs": [],
   "source": [
    "//export NewScript2\n",
    "def FuncToNewScript2(): Unit = {print(\"hello squirrel\")}"
   ]
  },
  {
   "cell_type": "code",
   "execution_count": null,
   "metadata": {},
   "outputs": [],
   "source": [
    "//export\n",
    "object TestObj {}"
   ]
  },
  {
   "cell_type": "code",
   "execution_count": null,
   "metadata": {},
   "outputs": [],
   "source": [
    "//export\n",
    "abstract class LotsOfParams(a: Int, b: List[(Int, Int)], c: BigInt)"
   ]
  },
  {
   "cell_type": "code",
   "execution_count": null,
   "metadata": {},
   "outputs": [],
   "source": []
  }
 ],
 "metadata": {
  "kernelspec": {
   "display_name": "Scala",
   "language": "scala",
   "name": "scala"
  },
  "language_info": {
   "codemirror_mode": "text/x-scala",
   "file_extension": ".scala",
   "mimetype": "text/x-scala",
   "name": "scala",
   "nbconvert_exporter": "script",
   "version": "2.12.10"
  }
 },
 "nbformat": 4,
 "nbformat_minor": 4
}
