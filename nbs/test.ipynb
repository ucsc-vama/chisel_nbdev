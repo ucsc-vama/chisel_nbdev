{
 "cells": [
  {
   "cell_type": "markdown",
   "metadata": {},
   "source": [
    "### Call the load_ivy script.\n",
    "Located in the source folder, the load_ivy.sc script will use ammonite to download snapshots of the chisel libraries, to be cached on your system. This is necessary for EVERY chisel notebook so we can then import our chisel libraries like we would in an SBT project structure."
   ]
  },
  {
   "cell_type": "code",
   "execution_count": 1,
   "metadata": {},
   "outputs": [
    {
     "data": {
      "text/plain": [
       "\u001b[32mimport \u001b[39m\u001b[36m$file.$              \u001b[39m"
      ]
     },
     "execution_count": 1,
     "metadata": {},
     "output_type": "execute_result"
    }
   ],
   "source": [
    "//export\n",
    "//default_exp test\n",
    "import $file.source.load_ivy"
   ]
  },
  {
   "cell_type": "markdown",
   "metadata": {},
   "source": [
    "### Prevent namespace error\n",
    "- To prevent an ambiguous reference to 'Input' by chisel3.Input and _root_.almond.input.Input, we have to make sure that we rename our chisel3 Input on import. It suffices to do as follows without requiring to change the name to something like IInput:\n",
    "```\n",
    "import chisel3.{Input => Input} \n",
    "```"
   ]
  },
  {
   "cell_type": "code",
   "execution_count": 2,
   "metadata": {},
   "outputs": [
    {
     "data": {
      "text/plain": [
       "\u001b[32mimport \u001b[39m\u001b[36mchisel3.{Input => Input}\n",
       "\u001b[39m\n",
       "\u001b[32mimport \u001b[39m\u001b[36mchisel3._\n",
       "\u001b[39m\n",
       "\u001b[32mimport \u001b[39m\u001b[36mchisel3.util._\n",
       "\u001b[39m\n",
       "\u001b[32mimport \u001b[39m\u001b[36mchisel3.tester._\n",
       "\u001b[39m\n",
       "\u001b[32mimport \u001b[39m\u001b[36mchisel3.iotesters.{ChiselFlatSpec, Driver, PeekPokeTester}\n",
       "\u001b[39m\n",
       "\u001b[32mimport \u001b[39m\u001b[36mchisel3.tester.RawTester.test\u001b[39m"
      ]
     },
     "execution_count": 2,
     "metadata": {},
     "output_type": "execute_result"
    }
   ],
   "source": [
    "//export\n",
    "import chisel3.{Input => Input}\n",
    "import chisel3._\n",
    "import chisel3.util._\n",
    "import chisel3.tester._\n",
    "import chisel3.iotesters.{ChiselFlatSpec, Driver, PeekPokeTester}\n",
    "import chisel3.tester.RawTester.test"
   ]
  },
  {
   "cell_type": "markdown",
   "metadata": {},
   "source": [
    "In Jupyter we are limitted to defining a class within a single cell. It can be argued that a notebook is excellent for hardware design because we can define modules and keep them well documented. However, Chisel modules often grow very large (i.e hundreds of lines). If this is required to be encapsulated in a single cell, then we will lose our ability to document what is happening within the module. Below is a workaround using Scala implicit conversions. \n",
    "\n",
    "In this example we will create a parameterizable \"Operator\" module that can perform either addition, subtraction, mul, or div. We will split up defining it over many cells and use implicit conversions to stitch it all together. "
   ]
  },
  {
   "cell_type": "markdown",
   "metadata": {},
   "source": [
    "### define the IO"
   ]
  },
  {
   "cell_type": "code",
   "execution_count": 3,
   "metadata": {},
   "outputs": [
    {
     "data": {
      "text/plain": [
       "defined \u001b[32mclass\u001b[39m \u001b[36mALUIO\u001b[39m"
      ]
     },
     "execution_count": 3,
     "metadata": {},
     "output_type": "execute_result"
    }
   ],
   "source": [
    "//export \n",
    "class ALUIO extends Bundle {\n",
    "    val a = Input(UInt(4.W))\n",
    "    val b = Input(UInt(4.W))\n",
    "    val out = Output(UInt(4.W))\n",
    "}"
   ]
  },
  {
   "cell_type": "markdown",
   "metadata": {},
   "source": [
    "### a skeleton module will be parent class of all of our methods"
   ]
  },
  {
   "cell_type": "code",
   "execution_count": 4,
   "metadata": {},
   "outputs": [
    {
     "data": {
      "text/plain": [
       "defined \u001b[32mclass\u001b[39m \u001b[36mALUSkeleton\u001b[39m"
      ]
     },
     "execution_count": 4,
     "metadata": {},
     "output_type": "execute_result"
    }
   ],
   "source": [
    "//export \n",
    "class ALUSkeleton extends Module {\n",
    "    val io = IO(new ALUIO)\n",
    "}"
   ]
  },
  {
   "cell_type": "markdown",
   "metadata": {},
   "source": [
    "### the add method from Add class will be injected into the ALUSkeleton class"
   ]
  },
  {
   "cell_type": "code",
   "execution_count": 5,
   "metadata": {},
   "outputs": [
    {
     "data": {
      "text/plain": [
       "defined \u001b[32mclass\u001b[39m \u001b[36mAdd\u001b[39m"
      ]
     },
     "execution_count": 5,
     "metadata": {},
     "output_type": "execute_result"
    }
   ],
   "source": [
    "//export \n",
    "class Add(m: ALUSkeleton) {\n",
    "    def add(a: UInt, b: UInt): UInt = a + b\n",
    "}"
   ]
  },
  {
   "cell_type": "code",
   "execution_count": 6,
   "metadata": {},
   "outputs": [
    {
     "data": {
      "text/plain": [
       "defined \u001b[32mclass\u001b[39m \u001b[36mSub\u001b[39m"
      ]
     },
     "execution_count": 6,
     "metadata": {},
     "output_type": "execute_result"
    }
   ],
   "source": [
    "//export \n",
    "class Sub(m: ALUSkeleton) {\n",
    "    def sub(a: UInt, b: UInt): UInt = a - b\n",
    "}"
   ]
  },
  {
   "cell_type": "markdown",
   "metadata": {},
   "source": [
    "### Here multiple methods will be injected"
   ]
  },
  {
   "cell_type": "code",
   "execution_count": 7,
   "metadata": {},
   "outputs": [
    {
     "data": {
      "text/plain": [
       "defined \u001b[32mclass\u001b[39m \u001b[36mMulDiv\u001b[39m"
      ]
     },
     "execution_count": 7,
     "metadata": {},
     "output_type": "execute_result"
    }
   ],
   "source": [
    "//export \n",
    "class MulDiv(m: ALUSkeleton) {\n",
    "    def mul(a: UInt, b: UInt): UInt = a * b\n",
    "    def div(a: UInt, b: UInt): UInt = a / b\n",
    "}"
   ]
  },
  {
   "cell_type": "markdown",
   "metadata": {},
   "source": [
    "### implicit def call will add the methods of the RHS classes to the implicit def parameter: ALUSkeleton class.\n",
    "Note the name ```includeAdd``` does not matter as it won't be called again, but is good practice to give it a clear name of what it is doing (i.e includAdd <=> include the Add class' methods)"
   ]
  },
  {
   "cell_type": "code",
   "execution_count": 8,
   "metadata": {},
   "outputs": [
    {
     "data": {
      "text/plain": [
       "defined \u001b[32mfunction\u001b[39m \u001b[36mincludeAdd\u001b[39m\n",
       "defined \u001b[32mfunction\u001b[39m \u001b[36mincludeSub\u001b[39m\n",
       "defined \u001b[32mfunction\u001b[39m \u001b[36mincludeMulDiv\u001b[39m"
      ]
     },
     "execution_count": 8,
     "metadata": {},
     "output_type": "execute_result"
    }
   ],
   "source": [
    "//export \n",
    "implicit def includeAdd(m: ALUSkeleton) = new Add(m)\n",
    "implicit def includeSub(m: ALUSkeleton) = new Sub(m)\n",
    "implicit def includeMulDiv(m: ALUSkeleton) = new MulDiv(m)"
   ]
  },
  {
   "cell_type": "markdown",
   "metadata": {},
   "source": [
    "### Use our implicitly defined functions\n",
    "We extend our ALUSkeleton giving us access to all of our implicitly defined methods. We can match based on parameterized operator (at compile time) and then only instantiate hardware for that given operation. "
   ]
  },
  {
   "cell_type": "code",
   "execution_count": 9,
   "metadata": {},
   "outputs": [
    {
     "data": {
      "text/plain": [
       "defined \u001b[32mclass\u001b[39m \u001b[36mOperator\u001b[39m"
      ]
     },
     "execution_count": 9,
     "metadata": {},
     "output_type": "execute_result"
    }
   ],
   "source": [
    "//export\n",
    "// This Operator module perform 1 type of operation depending on 'op' parameter\n",
    "class Operator(op: String) extends ALUSkeleton {\n",
    "    op match {\n",
    "        // Call on the implicit function\n",
    "        case \"+\" => io.out := this.add(io.a, io.b)\n",
    "        case \"-\" => io.out := this.sub(io.a, io.b)\n",
    "        case \"*\" => io.out := this.mul(io.a, io.b)\n",
    "        case \"/\" => io.out := this.div(io.a, io.b)\n",
    "        case _ => io.out := 0.U\n",
    "    }\n",
    "}"
   ]
  },
  {
   "cell_type": "markdown",
   "metadata": {},
   "source": [
    "### Summary\n",
    "While this includes a few more steps than simply implementing everything directly into an Operator module, it can actually save some headaches when building much larger moudules. The best case for developing this way is if you're defining a specific arithmetic implmentation, which this example was meant to outline. For example a multiplier may require many sub methods to implement, and these implementation details can be hidden from the module using it. Also working like this puts you in the mindset of pulling out independent pieces of logic to write functions for that can later be reused in other modules. "
   ]
  },
  {
   "cell_type": "code",
   "execution_count": 10,
   "metadata": {},
   "outputs": [
    {
     "name": "stdout",
     "output_type": "stream",
     "text": [
      "[\u001b[35minfo\u001b[0m] [0.001] Elaborating design...\n",
      "[\u001b[35minfo\u001b[0m] [1.151] Done elaborating.\n",
      "file loaded in 0.03387375 seconds, 7 symbols, 3 statements\n",
      "UInt<4>(8)\n",
      "test Operator Success: 0 tests passed in 2 cycles in 0.062334 seconds 32.09 Hz\n",
      "[\u001b[35minfo\u001b[0m] [0.000] Elaborating design...\n",
      "[\u001b[35minfo\u001b[0m] [0.159] Done elaborating.\n",
      "file loaded in 0.016190125 seconds, 7 symbols, 3 statements\n",
      "UInt<4>(2)\n",
      "test Operator Success: 0 tests passed in 2 cycles in 0.039320 seconds 50.86 Hz\n",
      "[\u001b[35minfo\u001b[0m] [0.000] Elaborating design...\n",
      "[\u001b[35minfo\u001b[0m] [0.116] Done elaborating.\n",
      "file loaded in 0.007054 seconds, 7 symbols, 3 statements\n",
      "UInt<4>(15)\n",
      "test Operator Success: 0 tests passed in 2 cycles in 0.034608 seconds 57.79 Hz\n",
      "[\u001b[35minfo\u001b[0m] [0.000] Elaborating design...\n",
      "[\u001b[35minfo\u001b[0m] [0.090] Done elaborating.\n",
      "file loaded in 0.017142666 seconds, 6 symbols, 2 statements\n",
      "UInt<4>(1)\n",
      "test Operator Success: 0 tests passed in 2 cycles in 0.006663 seconds 300.14 Hz\n",
      "[\u001b[35minfo\u001b[0m] [0.001] Elaborating design...\n",
      "[\u001b[35minfo\u001b[0m] [0.092] Done elaborating.\n",
      "file loaded in 0.005421125 seconds, 6 symbols, 2 statements\n",
      "UInt<4>(0)\n",
      "test Operator Success: 0 tests passed in 2 cycles in 0.012784 seconds 156.44 Hz\n"
     ]
    }
   ],
   "source": [
    "//export\n",
    "test(new Operator(op=\"+\")) { c =>\n",
    "    c.io.a.poke(5.U); c.io.b.poke(3.U)\n",
    "    c.io.out.expect(8.U)\n",
    "    println(c.io.out.peek())\n",
    "}\n",
    "\n",
    "\n",
    "test(new Operator(op=\"-\")) { c =>\n",
    "    c.io.a.poke(5.U); c.io.b.poke(3.U)\n",
    "    c.io.out.expect(2.U)\n",
    "    println(c.io.out.peek())\n",
    "}\n",
    "\n",
    "\n",
    "test(new Operator(op=\"*\")) { c =>\n",
    "    c.io.a.poke(5.U); c.io.b.poke(3.U)\n",
    "    c.io.out.expect(15.U)\n",
    "    println(c.io.out.peek())\n",
    "}\n",
    "\n",
    "\n",
    "test(new Operator(op=\"/\")) { c =>\n",
    "    c.io.a.poke(5.U); c.io.b.poke(3.U)\n",
    "    c.io.out.expect(1.U)\n",
    "    println(c.io.out.peek())\n",
    "}\n",
    "\n",
    "\n",
    "test(new Operator(op=\"%\")) { c =>\n",
    "    c.io.a.poke(5.U); c.io.b.poke(3.U)\n",
    "    c.io.out.expect(0.U)\n",
    "    println(c.io.out.peek())\n",
    "}"
   ]
  },
  {
   "cell_type": "markdown",
   "metadata": {},
   "source": [
    "### Export the file to .sc\n",
    "- File -> Export Notebook As... -> Executable Script\n",
    "- Move into same directory as your other chisel notebooks\n",
    "- This will create a file ToImport.scala\n",
    "- Rename it to ToImport.sc\n",
    "- Can now import using ```import $file.ToImport```\n",
    "\n"
   ]
  },
  {
   "cell_type": "code",
   "execution_count": null,
   "metadata": {},
   "outputs": [],
   "source": []
  }
 ],
 "metadata": {
  "kernelspec": {
   "display_name": "Scala",
   "language": "scala",
   "name": "scala"
  },
  "language_info": {
   "codemirror_mode": "text/x-scala",
   "file_extension": ".scala",
   "mimetype": "text/x-scala",
   "name": "scala",
   "nbconvert_exporter": "script",
   "version": "2.12.10"
  }
 },
 "nbformat": 4,
 "nbformat_minor": 4
}
