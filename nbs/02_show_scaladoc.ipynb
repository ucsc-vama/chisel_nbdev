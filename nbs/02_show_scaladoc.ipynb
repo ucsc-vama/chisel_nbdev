{
 "cells": [
  {
   "cell_type": "code",
   "execution_count": 1,
   "metadata": {
    "hide_input": false
   },
   "outputs": [],
   "source": [
    "#hide\n",
    "#default_exp showdoc\n",
    "#default_cls_lvl 3\n",
    "from nbdev.showdoc import show_doc"
   ]
  },
  {
   "cell_type": "code",
   "execution_count": 2,
   "metadata": {},
   "outputs": [],
   "source": [
    "#export\n",
    "from nbdev.imports import *\n",
    "from nbconvert import HTMLExporter\n",
    "from fastcore.utils import IN_NOTEBOOK\n",
    "\n",
    "if IN_NOTEBOOK:\n",
    "    from IPython.display import Markdown,display\n",
    "    from IPython.core import page"
   ]
  },
  {
   "cell_type": "code",
   "execution_count": 3,
   "metadata": {},
   "outputs": [],
   "source": [
    "#export\n",
    "import sys\n",
    "import os\n",
    "import copy\n",
    "\n",
    "SCRIPT_DIR = os.path.dirname(os.getcwd()) + '/chisel_nbdev'\n",
    "sys.path.append(os.path.normpath(SCRIPT_DIR))\n",
    "from export_scala import *\n",
    "from export_scala import get_nbdev_module\n",
    "from sync_scala import *"
   ]
  },
  {
   "cell_type": "markdown",
   "metadata": {},
   "source": [
    "# Show doc\n",
    "\n",
    "> Functions to show the doc cells in notebooks"
   ]
  },
  {
   "cell_type": "markdown",
   "metadata": {},
   "source": [
    "All the automatic documentation of functions and classes are generated with the `show_doc` function. It displays the name, arguments, docstring along with a link to the source code on GitHub."
   ]
  },
  {
   "cell_type": "markdown",
   "metadata": {},
   "source": [
    "## Gather the information"
   ]
  },
  {
   "cell_type": "markdown",
   "metadata": {},
   "source": [
    "The inspect module lets us know quickly if an object is a function or a class but it doesn't distinguish classes and enums."
   ]
  },
  {
   "cell_type": "code",
   "execution_count": 4,
   "metadata": {},
   "outputs": [],
   "source": [
    "#export\n",
    "def is_enum(cls):\n",
    "    \"Check if `cls` is an enum or another type of class\"\n",
    "    return type(cls) in (enum.Enum, enum.EnumMeta)"
   ]
  },
  {
   "cell_type": "code",
   "execution_count": 5,
   "metadata": {},
   "outputs": [],
   "source": [
    "e = enum.Enum('e', 'a b')\n",
    "assert is_enum(e)\n",
    "assert not is_enum(e.__class__)\n",
    "assert not is_enum(int)"
   ]
  },
  {
   "cell_type": "markdown",
   "metadata": {},
   "source": [
    "### Links to documentation"
   ]
  },
  {
   "cell_type": "code",
   "execution_count": 6,
   "metadata": {},
   "outputs": [],
   "source": [
    "#export\n",
    "re_digits_first = re.compile('^[0-9]+[a-z]*_')"
   ]
  },
  {
   "cell_type": "markdown",
   "metadata": {},
   "source": [
    "looks to nbdev/_nbdeb.py where our index is stored."
   ]
  },
  {
   "cell_type": "code",
   "execution_count": 7,
   "metadata": {},
   "outputs": [],
   "source": [
    "#export\n",
    "def is_doc_name(name):\n",
    "    \"Test if `name` corresponds to a notebook that could be converted to a doc page\"\n",
    "    for f in Config().path(\"nbs_path\").glob(f'*{name}.ipynb'):\n",
    "        if re_digits_first.sub('', f.name) == f'{name}.ipynb': return True\n",
    "    return False"
   ]
  },
  {
   "cell_type": "code",
   "execution_count": 8,
   "metadata": {},
   "outputs": [],
   "source": [
    "test_eq(is_doc_name('flaags'),False)\n",
    "test_eq(is_doc_name('export_scala'),True)\n",
    "test_eq(is_doc_name('sync_scala'),True)\n",
    "test_eq(is_doc_name('test_scala'),True)\n",
    "test_eq(is_doc_name('test'),True)\n",
    "test_eq(is_doc_name('ToImport'),True)\n",
    "test_eq(is_doc_name('test.Operator'),False) # only notebook names"
   ]
  },
  {
   "cell_type": "code",
   "execution_count": 9,
   "metadata": {},
   "outputs": [],
   "source": [
    "#export\n",
    "def doc_link(name, include_bt=True):\n",
    "    \"Create link to documentation for `name`.\"\n",
    "    cname = f'`{name}`' if include_bt else name\n",
    "    try:\n",
    "        #Link to modules\n",
    "        if is_doc_name(name): return f\"[{cname}]({Config().doc_baseurl}{name}.html)\"\n",
    "        #Link to local functions\n",
    "        try_local = source_nb(name, is_name=True)\n",
    "        if try_local:\n",
    "            page = re_digits_first.sub('', try_local).replace('.ipynb', '')\n",
    "            return f'[{cname}]({Config().doc_baseurl}{page}.html#{name})'\n",
    "        ##Custom links\n",
    "        mod = get_nbdev_module()\n",
    "        link = mod.custom_doc_links(name)\n",
    "        return f'[{cname}]({link})' if link is not None else cname\n",
    "    except Exception as e: print(e); return cname"
   ]
  },
  {
   "cell_type": "markdown",
   "metadata": {},
   "source": [
    "This function will generate links for modules (pointing to the html conversion of the corresponding notebook) and functions (pointing to the html conversion of the notebook where they were defined, with the first anchor found before). If the function/module is not part of the library you are writing, it will call the function `custom_doc_links` generated in `_nbdev` (you can customize it to your needs) and just return the name between backticks if that function returns `None`.\n",
    "\n",
    "For instance, fastai has the following `custom_doc_links` that tries to find a doc link for `name` in fastcore then nbdev (in this order):\n",
    "``` python\n",
    "def custom_doc_links(name): \n",
    "    from nbdev.showdoc import try_external_doc_link\n",
    "    return try_external_doc_link(name, ['fastcore', 'nbdev'])\n",
    "```\n",
    "\n",
    "Please note that module links only work if your notebook names \"correspond\" to your module names:\n",
    "\n",
    "| Notebook name      | Doc name       | Module name | Module file  | Can doc link? |\n",
    "|--------------------|----------------|-------------|--------------|---------------|\n",
    "| export.ipynb       | export.html    | export      | export.py    | Yes           |\n",
    "| 00_export.ipynb    | export.html    | export      | export.py    | Yes           |\n",
    "| 00a_export.ipynb   | export.html    | export      | export.py    | Yes           |\n",
    "| export_1.ipynb     | export_1.html  | export      | export.py    | No            |\n",
    "| 03_data.core.ipynb | data.core.html | data.core   | data/core.py | Yes           |\n",
    "| 03_data_core.ipynb | data_core.html | data.core   | data/core.py | No            |"
   ]
  },
  {
   "cell_type": "code",
   "execution_count": 10,
   "metadata": {},
   "outputs": [],
   "source": [
    "test_eq(doc_link('export_scala'), f'[`export_scala`](/export_scala.html)')\n",
    "test_eq(doc_link('test_scala'), f'[`test_scala`](/test_scala.html)')\n",
    "test_eq(doc_link('sync_scala'), f'[`sync_scala`](/sync_scala.html)')\n",
    "test_eq(doc_link('test'), f'[`test`](/test.html)')\n",
    "test_eq(doc_link('Operator'), f'[`Operator`](/test.html#Operator)')\n",
    "test_eq(doc_link('FuncToNewScript'), f'[`FuncToNewScript`](/test.html#FuncToNewScript)')"
   ]
  },
  {
   "cell_type": "code",
   "execution_count": 11,
   "metadata": {},
   "outputs": [],
   "source": [
    "#export\n",
    "_re_backticks = re.compile(r\"\"\"\n",
    "# Catches any link of the form \\[`obj`\\](old_link) or just `obj`,\n",
    "#   to either update old links or add the link to the docs of obj\n",
    "\\[`      #     Opening [ and `\n",
    "([^`]*)  #     Catching group with anything but a `\n",
    "`\\]      #     ` then closing ]\n",
    "(?:      #     Beginning of non-catching group\n",
    "\\(       #       Opening (\n",
    "[^)]*    #       Anything but a closing )\n",
    "\\)       #       Closing )\n",
    ")        #     End of non-catching group\n",
    "|        # OR\n",
    "`        #     Opening `\n",
    "([^`]*)  #       Anything but a `\n",
    "`        #     Closing `\n",
    "\"\"\", re.VERBOSE)"
   ]
  },
  {
   "cell_type": "code",
   "execution_count": 12,
   "metadata": {},
   "outputs": [],
   "source": [
    "#export\n",
    "def add_doc_links(text, elt=None):\n",
    "    \"Search for doc links for any item between backticks in `text` and insert them\"\n",
    "    def _replace_link(m): \n",
    "        try: \n",
    "            if m.group(2) in inspect.signature(elt).parameters: return f'`{m.group(2)}`'\n",
    "        except: pass\n",
    "        return doc_link(m.group(1) or m.group(2))\n",
    "    return _re_backticks.sub(_replace_link, text)"
   ]
  },
  {
   "cell_type": "markdown",
   "metadata": {},
   "source": [
    "This function not only add links to backtick keywords, it also update the links that are already in the text (in case they have changed)."
   ]
  },
  {
   "cell_type": "code",
   "execution_count": 13,
   "metadata": {},
   "outputs": [],
   "source": [
    "tst = add_doc_links('This is an example of `Operator`')\n",
    "test_eq(tst, \"This is an example of [`Operator`](/test.html#Operator)\")\n",
    "tst = add_doc_links('This is an example of [`Operator`](old_link.html)')\n",
    "test_eq(tst, \"This is an example of [`Operator`](/test.html#Operator)\")"
   ]
  },
  {
   "cell_type": "markdown",
   "metadata": {},
   "source": [
    "As important as the source code, we want to quickly jump to where the function is defined when we are in a development notebook."
   ]
  },
  {
   "cell_type": "code",
   "execution_count": 14,
   "metadata": {},
   "outputs": [],
   "source": [
    "#export\n",
    "_re_header = re.compile(r\"\"\"\n",
    "# Catches any header in markdown with the title in group 1\n",
    "^\\s*  # Beginning of text followed by any number of whitespace\n",
    "\\#+   # One # or more\n",
    "\\s*   # Any number of whitespace\n",
    "(.*)  # Catching group with anything\n",
    "$     # End of text\n",
    "\"\"\", re.VERBOSE)"
   ]
  },
  {
   "cell_type": "code",
   "execution_count": 15,
   "metadata": {},
   "outputs": [],
   "source": [
    "#export\n",
    "def colab_link(path):\n",
    "    \"Get a link to the notebook at `path` on Colab\"\n",
    "    cfg = Config()\n",
    "    res = f'https://colab.research.google.com/github/{cfg.user}/{cfg.lib_name}/blob/{cfg.branch}/{cfg.path(\"nbs_path\").name}/{path}.ipynb'\n",
    "    display(Markdown(f'[Open `{path}` in Colab]({res})'))"
   ]
  },
  {
   "cell_type": "code",
   "execution_count": 16,
   "metadata": {},
   "outputs": [
    {
     "data": {
      "text/markdown": [
       "[Open `00_export_scala` in Colab](https://colab.research.google.com/github/ucsc-vama/chisel-nbdev/blob/master/nbs/00_export_scala.ipynb)"
      ],
      "text/plain": [
       "<IPython.core.display.Markdown object>"
      ]
     },
     "metadata": {},
     "output_type": "display_data"
    }
   ],
   "source": [
    "colab_link('00_export_scala')"
   ]
  },
  {
   "cell_type": "markdown",
   "metadata": {},
   "source": [
    "### Links to source"
   ]
  },
  {
   "cell_type": "markdown",
   "metadata": {},
   "source": [
    "Configure a regex to just look for desired object/class/function/etc name"
   ]
  },
  {
   "cell_type": "code",
   "execution_count": 17,
   "metadata": {},
   "outputs": [],
   "source": [
    "#export\n",
    "def _get_sig_by_name(find_name):\n",
    "    return re.compile(fr'''(abstract\\s+class|case\\s+class|class|object|trait|sealed\\s+trait|implicit\\s+def|def)\\s+({find_name})''', re.MULTILINE)"
   ]
  },
  {
   "cell_type": "code",
   "execution_count": 18,
   "metadata": {},
   "outputs": [],
   "source": [
    "_operator_re = _get_sig_by_name('Operator')\n",
    "test_eq(re.search(_operator_re, \"//export\\n abstract class Operator(a : Int, b: Boolean = false)\").group(0), \"abstract class Operator\")"
   ]
  },
  {
   "cell_type": "markdown",
   "metadata": {},
   "source": [
    "RegEx to extract out all of the params from a signature"
   ]
  },
  {
   "cell_type": "code",
   "execution_count": 19,
   "metadata": {},
   "outputs": [],
   "source": [
    "#export\n",
    "_re_get_params_list = re.compile(r'''\n",
    "\\((.*)\\)\n",
    "''', re.MULTILINE | re.VERBOSE)"
   ]
  },
  {
   "cell_type": "code",
   "execution_count": 20,
   "metadata": {},
   "outputs": [],
   "source": [
    "test_eq(re.search(_re_get_params_list, \" abstract class Operator(a : Int, b: Boolean = false)\").group(), '(a : Int, b: Boolean = false)')\n",
    "test_eq(re.search(_re_get_params_list, \" class Foo( a: (Int, Int), b: (Int, Int), c: Boolean) = {}\").group(), '( a: (Int, Int), b: (Int, Int), c: Boolean)')\n",
    "test_eq(re.search(_re_get_params_list, '''//export\n",
    "// This Operator module perform 1 type of operation depending on 'op' parameter\n",
    "class Operator(op: String) extends ALUSkeleton {\n",
    "    op match {\n",
    "        // Call on the implicit function\n",
    "        case \"+\" => io.out := this.add(io.a, io.b)\n",
    "        case \"-\" => io.out := this.sub(io.a, io.b)\n",
    "        case \"*\" => io.out := this.mul(io.a, io.b)\n",
    "        case \"/\" => io.out := this.div(io.a, io.b)\n",
    "        case _ => io.out := 0.U\n",
    "    }\n",
    "}''').group(0), '(op: String)')"
   ]
  },
  {
   "cell_type": "markdown",
   "metadata": {},
   "source": [
    "Regex to extract out each param from a param list by consuming from right to left. "
   ]
  },
  {
   "cell_type": "code",
   "execution_count": 21,
   "metadata": {},
   "outputs": [],
   "source": [
    "#export\n",
    "_back_trav_re = re.compile(r'\\s*([^(,]+)\\s*:\\s*([^:]+)\\s*[,)]\\s*$')\n",
    "\n",
    "def _parse_scala_paramlist(s):\n",
    "    ''' matches from end  of string backwards, expecting initial parameters string to be enclosed in parens \n",
    "like s = \"(a: Int, b: (Int, Int))'''\n",
    "    params = []\n",
    "    _re = _back_trav_re\n",
    "\n",
    "    l = copy.deepcopy(s)\n",
    "    while l != \"(\":\n",
    "        match = _back_trav_re.search(l)\n",
    "        l = l[:match.span(0)[0]]\n",
    "        params.append((match.group(1), match.group(2)))\n",
    "    return params[::-1]"
   ]
  },
  {
   "cell_type": "code",
   "execution_count": 22,
   "metadata": {},
   "outputs": [
    {
     "data": {
      "text/plain": [
       "[('a ', 'Int'), ('b', 'Boolean = false')]"
      ]
     },
     "execution_count": 22,
     "metadata": {},
     "output_type": "execute_result"
    }
   ],
   "source": [
    "ps = \" abstract class Operator(a : Int, b: Boolean = false)\"\n",
    "ps = re.search(_re_get_params_list, ps).group(0)\n",
    "ps = _parse_scala_paramlist(ps)\n",
    "ps"
   ]
  },
  {
   "cell_type": "markdown",
   "metadata": {},
   "source": [
    "Must split any composite types into their sub types and default values"
   ]
  },
  {
   "cell_type": "code",
   "execution_count": 23,
   "metadata": {},
   "outputs": [],
   "source": [
    "#export \n",
    "def _split_paramlist(plist):\n",
    "    ret = []\n",
    "    for v,t in plist:\n",
    "        typ = t.strip() # remove whitespace\n",
    "        try:\n",
    "            typ, default_val = typ.split('=')\n",
    "            ret.append({v :(typ, default_val)})\n",
    "        except ValueError:\n",
    "            ret.append({v :(typ)})\n",
    "    return ret\n",
    "   "
   ]
  },
  {
   "cell_type": "code",
   "execution_count": 24,
   "metadata": {},
   "outputs": [
    {
     "data": {
      "text/plain": [
       "[{'a': 'List[(Int, Int)]'},\n",
       " {'b': 'List[(BigInt, BigInt)]'},\n",
       " {'c': ('Boolean', 'false')},\n",
       " {'d': 'List[(List[BigInt, Int], List[Int, BigInt])]'}]"
      ]
     },
     "execution_count": 24,
     "metadata": {},
     "output_type": "execute_result"
    }
   ],
   "source": [
    "ps = \" class Foo( a: List[(Int, Int)], b: List[(BigInt, BigInt)], c: Boolean=false, d: List[(List[BigInt, Int], List[Int, BigInt])]) = {} \"\n",
    "ps = re.search(_re_get_params_list, ps).group(0)\n",
    "ps = _parse_scala_paramlist(ps)\n",
    "_split_paramlist(ps)"
   ]
  },
  {
   "cell_type": "code",
   "execution_count": 25,
   "metadata": {},
   "outputs": [],
   "source": [
    "#export\n",
    "def _get_sig_cell(fname):\n",
    "    src = source_nb(fname, is_name=True, return_all=True)\n",
    "    if src is None: return '' \n",
    "    find_name,nb_name = src\n",
    "    nb = read_nb(nb_name)\n",
    "    pat = _get_sig_by_name(fname)\n",
    "    for i,cell in enumerate(nb['cells']):\n",
    "        if cell['cell_type'] == 'code':\n",
    "            if re.search(pat, cell['source']):\n",
    "                return cell['source']"
   ]
  },
  {
   "cell_type": "markdown",
   "metadata": {},
   "source": [
    "Returns a list of dicts, where each key-value pair is a parameter. the input is either a class/func/etc name or a code string containing the definition."
   ]
  },
  {
   "cell_type": "code",
   "execution_count": 26,
   "metadata": {},
   "outputs": [],
   "source": [
    "#export\n",
    "def _get_sig_params(fname:str =None, code:str =None):\n",
    "    if code is None:\n",
    "        code = _get_sig_cell(fname)\n",
    "    plist = re.search(_re_get_params_list, code).group(0)\n",
    "    if plist is None:\n",
    "        return\n",
    "    ps = _parse_scala_paramlist(plist)\n",
    "    return _split_paramlist(ps) "
   ]
  },
  {
   "cell_type": "code",
   "execution_count": 27,
   "metadata": {},
   "outputs": [],
   "source": [
    "test_eq(_get_sig_params('Operator'), [{'op': 'String'}])\n",
    "test_eq(_get_sig_params(code='''//export\n",
    "// This Operator module perform 1 type of operation depending on 'op' parameter\n",
    "class Operator(op: String) extends ALUSkeleton {\n",
    "    op match {\n",
    "        // Call on the implicit function\n",
    "        case \"+\" => io.out := this.add(io.a, io.b)\n",
    "        case \"-\" => io.out := this.sub(io.a, io.b)\n",
    "        case \"*\" => io.out := this.mul(io.a, io.b)\n",
    "        case \"/\" => io.out := this.div(io.a, io.b)\n",
    "        case _ => io.out := 0.U\n",
    "    }\n",
    "}'''), [{'op': 'String'}])\n",
    "\n",
    "test_eq(_get_sig_params(code='''//export \n",
    "class MulDiv(m: ALUSkeleton) {\n",
    "    println(\"changed auto-gen file\")\n",
    "    def mul(a: UInt, b: UInt): UInt = a * b\n",
    "    def div(a: UInt, b: UInt): UInt = a / b\n",
    "}'''), [{'m': 'ALUSkeleton'}])"
   ]
  },
  {
   "cell_type": "code",
   "execution_count": 28,
   "metadata": {},
   "outputs": [],
   "source": [
    "#export\n",
    "def get_nb_source_link(func, local=False):\n",
    "    \"Return a link to the notebook where `func` is defined.\"\n",
    "#     func = _unwrapped_type_dispatch_func(func)\n",
    "    pref = '' if local else Config().git_url.replace('github.com', 'nbviewer.jupyter.org/github')+ Config().path(\"nbs_path\").name+'/'\n",
    "    src = source_nb(func, is_name=True, return_all=True)\n",
    "    if src is None: return '' \n",
    "    find_name,nb_name = src\n",
    "    print(find_name)\n",
    "    nb = read_nb(nb_name)\n",
    "#     pat = re.compile(f'^{find_name}\\s+=|^(def|class)\\s+{find_name}\\s*\\(', re.MULTILINE)\n",
    "    pat = _get_sig_by_name(find_name)\n",
    "    if len(find_name.split('.')) == 2:\n",
    "        clas,pat = find_name.split('.') # split test.Add -> Add in situation where Add defined in > 1 modules\n",
    "    for i,cell in enumerate(nb['cells']):\n",
    "        if cell['cell_type'] == 'code':\n",
    "            if re.search(pat, cell['source']):  break\n",
    "    if re.search(pat, cell['source']) is None:\n",
    "        return '' \n",
    "    header_pat = re.compile(r'^\\s*#+\\s*(.*)$')\n",
    "    while i >= 0:\n",
    "        cell = nb['cells'][i]\n",
    "        if cell['cell_type'] == 'markdown' and _re_header.search(cell['source']):\n",
    "            title = _re_header.search(cell['source']).groups()[0]\n",
    "            anchor = '-'.join([s for s in title.split(' ') if len(s) > 0])\n",
    "            return f'{pref}{nb_name}#{anchor}'\n",
    "        i-=1\n",
    "    return f'{pref}{nb_name}'"
   ]
  },
  {
   "cell_type": "code",
   "execution_count": 29,
   "metadata": {},
   "outputs": [
    {
     "name": "stdout",
     "output_type": "stream",
     "text": [
      "Operator\n",
      "test.Add\n",
      "Add\n",
      "TestObj\n"
     ]
    },
    {
     "data": {
      "text/plain": [
       "'test.ipynb#Here-multiple-methods-will-be-injected'"
      ]
     },
     "execution_count": 29,
     "metadata": {},
     "output_type": "execute_result"
    }
   ],
   "source": [
    "get_nb_source_link(\"Operator\", local=True)\n",
    "get_nb_source_link(\"test.Add\", local=True)\n",
    "get_nb_source_link(\"Add\", local=True)\n",
    "get_nb_source_link(\"TestObj\", local=True)"
   ]
  },
  {
   "cell_type": "markdown",
   "metadata": {},
   "source": [
    "You can pass a func name based as a string. `local` will return a local link, otherwise it will point to a the notebook on Google Colab."
   ]
  },
  {
   "cell_type": "code",
   "execution_count": 30,
   "metadata": {},
   "outputs": [],
   "source": [
    "#export\n",
    "def nb_source_link(func, disp=True, local=True):\n",
    "    \"Show a relative link to the notebook where `func` is defined\"\n",
    "    link = get_nb_source_link(func, local=local)\n",
    "    text = func if local else f'{func} (GitHub)'\n",
    "    if disp: display(Markdown(f'[{text}]({link})'))\n",
    "    else: return link"
   ]
  },
  {
   "cell_type": "markdown",
   "metadata": {},
   "source": [
    "This function assumes you are in one notebook in the development folder, otherwise you can use `disp=False` to get the relative link. "
   ]
  },
  {
   "cell_type": "code",
   "execution_count": 31,
   "metadata": {},
   "outputs": [
    {
     "name": "stdout",
     "output_type": "stream",
     "text": [
      "Operator\n",
      "Add\n",
      "TestObj\n"
     ]
    }
   ],
   "source": [
    "test_eq(nb_source_link(\"Operator\", local=True, disp=False), f'test.ipynb#Here-multiple-methods-will-be-injected')\n",
    "test_eq(nb_source_link(\"Add\", local=True, disp=False), f'ToImport.ipynb')\n",
    "test_eq(nb_source_link(\"TestObj\", local=True, disp=False), f'test.ipynb#Here-multiple-methods-will-be-injected')"
   ]
  },
  {
   "cell_type": "markdown",
   "metadata": {},
   "source": [
    "## Show documentation"
   ]
  },
  {
   "cell_type": "code",
   "execution_count": 32,
   "metadata": {},
   "outputs": [],
   "source": [
    "#export\n",
    "def _format_param(p):\n",
    "    res = \"\"\n",
    "    \"Formats function param to `param:Type=val` with font weights: param=bold, val=italic\"\n",
    "    for k,v in p.items():\n",
    "        typ, def_val = v if type(v) == tuple else (v, None)\n",
    "        res = f\"**`{k}`:`{typ}`**\"\n",
    "        if def_val is not None: res += f\"=*`{def_val}`*\"\n",
    "    \n",
    "    return res"
   ]
  },
  {
   "cell_type": "code",
   "execution_count": 33,
   "metadata": {},
   "outputs": [],
   "source": [
    "#export\n",
    "def format_all_params(fname):\n",
    "    ps = _get_sig_params(fname)\n",
    "    return [_format_param(p) for p in ps]"
   ]
  },
  {
   "cell_type": "code",
   "execution_count": 34,
   "metadata": {},
   "outputs": [],
   "source": [
    "ps = \" class Foo( a: List[(Int, Int)], b: List[(BigInt, BigInt)], c: Boolean=false, d: List[(List[BigInt, Int], List[Int, BigInt])]) = {} \"\n",
    "ps = _get_sig_params(code=ps)\n",
    "params = [_format_param(p) for p in ps]\n",
    "test_eq(params, ['**`a`:`List[(Int, Int)]`**', '**`b`:`List[(BigInt, BigInt)]`**', '**`c`:`Boolean`**=*`false`*', '**`d`:`List[(List[BigInt, Int], List[Int, BigInt])]`**'])\n",
    "params = format_all_params('Operator')\n",
    "test_eq(params, ['**`op`:`String`**'])"
   ]
  },
  {
   "cell_type": "code",
   "execution_count": 35,
   "metadata": {},
   "outputs": [],
   "source": [
    "#export \n",
    "def wrap_params(name, ps):\n",
    "    fmt_name = f\"<code>{name}</code>\"\n",
    "    args = \"\"\n",
    "    for p in ps:\n",
    "        args += p + ','\n",
    "    return fmt_name, f\"{fmt_name}({args.rstrip(',')})\""
   ]
  },
  {
   "cell_type": "code",
   "execution_count": 36,
   "metadata": {},
   "outputs": [],
   "source": [
    "params = format_all_params('Operator')\n",
    "test_eq(wrap_params('Operator', params), (\"<code>Operator</code>\", \"<code>Operator</code>(**`op`:`String`**)\"))"
   ]
  },
  {
   "cell_type": "code",
   "execution_count": 37,
   "metadata": {},
   "outputs": [],
   "source": [
    "#export\n",
    "def show_doc(fname, doc_string=False, title_level=None, disp=True, default_cls_level=2):\n",
    "    \"Show documentation for fname\"\n",
    "    try:\n",
    "        name, args = wrap_params(fname, format_all_params(fname))\n",
    "    except AttributeError:\n",
    "        # signature lacks params\n",
    "        name, args = f\"<code>{fname}</code>\", []\n",
    "    link = nb_source_link(fname, disp=disp, local=False)\n",
    "    source_link = f'<a href=\"{link}\" class=\"source_link\" style=\"float:right\">[source]</a>'\n",
    "    title_level = title_level if title_level else default_cls_level \n",
    "    doc =  f'<h{title_level} id=\"{fname}\" class=\"doc_header\">{name}{source_link}</h{title_level}>'\n",
    "    doc += f'\\n\\n> {args}\\n\\n' if len(args) > 0 else '\\n\\n'\n",
    "    if disp: display(Markdown(doc))\n",
    "    else: return doc"
   ]
  },
  {
   "cell_type": "code",
   "execution_count": 40,
   "metadata": {},
   "outputs": [
    {
     "name": "stdout",
     "output_type": "stream",
     "text": [
      "MulDiv\n"
     ]
    },
    {
     "data": {
      "text/markdown": [
       "[MulDiv (GitHub)](https://nbviewer.jupyter.org/github/ucsc-vama/chisel-nbdevnbs/test.ipynb#Here-multiple-methods-will-be-injected)"
      ],
      "text/plain": [
       "<IPython.core.display.Markdown object>"
      ]
     },
     "metadata": {},
     "output_type": "display_data"
    },
    {
     "data": {
      "text/markdown": [
       "<h2 id=\"MulDiv\" class=\"doc_header\"><code>MulDiv</code><a href=\"None\" class=\"source_link\" style=\"float:right\">[source]</a></h2>\n",
       "\n",
       "> <code>MulDiv</code>(**`m`:`ALUSkeleton`**)\n",
       "\n"
      ],
      "text/plain": [
       "<IPython.core.display.Markdown object>"
      ]
     },
     "metadata": {},
     "output_type": "display_data"
    }
   ],
   "source": [
    "show_doc('MulDiv')"
   ]
  },
  {
   "cell_type": "code",
   "execution_count": null,
   "metadata": {},
   "outputs": [],
   "source": []
  }
 ],
 "metadata": {
  "kernelspec": {
   "display_name": "Python 3",
   "language": "python",
   "name": "python3"
  },
  "language_info": {
   "codemirror_mode": {
    "name": "ipython",
    "version": 3
   },
   "file_extension": ".py",
   "mimetype": "text/x-python",
   "name": "python",
   "nbconvert_exporter": "python",
   "pygments_lexer": "ipython3",
   "version": "3.8.2"
  }
 },
 "nbformat": 4,
 "nbformat_minor": 4
}
