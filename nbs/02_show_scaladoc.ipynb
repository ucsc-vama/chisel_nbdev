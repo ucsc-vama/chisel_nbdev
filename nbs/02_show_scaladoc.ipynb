{
 "cells": [
  {
   "cell_type": "code",
   "execution_count": 1,
   "metadata": {
    "hide_input": false
   },
   "outputs": [],
   "source": [
    "#hide\n",
    "#default_exp showdoc\n",
    "#default_cls_lvl 3\n",
    "from nbdev.showdoc import show_doc"
   ]
  },
  {
   "cell_type": "code",
   "execution_count": 2,
   "metadata": {},
   "outputs": [],
   "source": [
    "#export\n",
    "from nbdev.imports import *\n",
    "from nbconvert import HTMLExporter\n",
    "from fastcore.utils import IN_NOTEBOOK\n",
    "\n",
    "if IN_NOTEBOOK:\n",
    "    from IPython.display import Markdown,display\n",
    "    from IPython.core import page"
   ]
  },
  {
   "cell_type": "code",
   "execution_count": 3,
   "metadata": {},
   "outputs": [],
   "source": [
    "#export\n",
    "import sys\n",
    "import os\n",
    "\n",
    "SCRIPT_DIR = os.path.dirname(os.getcwd()) + '/chisel_nbdev'\n",
    "sys.path.append(os.path.normpath(SCRIPT_DIR))\n",
    "from export_scala import *\n",
    "from export_scala import get_nbdev_module\n",
    "from sync_scala import *"
   ]
  },
  {
   "cell_type": "markdown",
   "metadata": {},
   "source": [
    "# Show doc\n",
    "\n",
    "> Functions to show the doc cells in notebooks"
   ]
  },
  {
   "cell_type": "markdown",
   "metadata": {},
   "source": [
    "All the automatic documentation of functions and classes are generated with the `show_doc` function. It displays the name, arguments, docstring along with a link to the source code on GitHub."
   ]
  },
  {
   "cell_type": "markdown",
   "metadata": {},
   "source": [
    "## Gather the information"
   ]
  },
  {
   "cell_type": "markdown",
   "metadata": {},
   "source": [
    "The inspect module lets us know quickly if an object is a function or a class but it doesn't distinguish classes and enums."
   ]
  },
  {
   "cell_type": "code",
   "execution_count": 4,
   "metadata": {},
   "outputs": [],
   "source": [
    "#export\n",
    "def is_enum(cls):\n",
    "    \"Check if `cls` is an enum or another type of class\"\n",
    "    return type(cls) in (enum.Enum, enum.EnumMeta)"
   ]
  },
  {
   "cell_type": "code",
   "execution_count": 5,
   "metadata": {},
   "outputs": [],
   "source": [
    "e = enum.Enum('e', 'a b')\n",
    "assert is_enum(e)\n",
    "assert not is_enum(e.__class__)\n",
    "assert not is_enum(int)"
   ]
  },
  {
   "cell_type": "markdown",
   "metadata": {},
   "source": [
    "### Links to documentation"
   ]
  },
  {
   "cell_type": "code",
   "execution_count": 6,
   "metadata": {},
   "outputs": [],
   "source": [
    "#export\n",
    "re_digits_first = re.compile('^[0-9]+[a-z]*_')"
   ]
  },
  {
   "cell_type": "markdown",
   "metadata": {},
   "source": [
    "looks to nbdev/_nbdeb.py where our index is stored."
   ]
  },
  {
   "cell_type": "code",
   "execution_count": 7,
   "metadata": {},
   "outputs": [],
   "source": [
    "#export\n",
    "def is_doc_name(name):\n",
    "    \"Test if `name` corresponds to a notebook that could be converted to a doc page\"\n",
    "    for f in Config().path(\"nbs_path\").glob(f'*{name}.ipynb'):\n",
    "        if re_digits_first.sub('', f.name) == f'{name}.ipynb': return True\n",
    "    return False"
   ]
  },
  {
   "cell_type": "code",
   "execution_count": 8,
   "metadata": {},
   "outputs": [],
   "source": [
    "test_eq(is_doc_name('flaags'),False)\n",
    "test_eq(is_doc_name('export_scala'),True)\n",
    "test_eq(is_doc_name('sync_scala'),True)\n",
    "test_eq(is_doc_name('test_scala'),True)\n",
    "test_eq(is_doc_name('test'),True)\n",
    "test_eq(is_doc_name('ToImport'),True)\n",
    "test_eq(is_doc_name('test.Operator'),False) # only notebook names"
   ]
  },
  {
   "cell_type": "code",
   "execution_count": 9,
   "metadata": {},
   "outputs": [],
   "source": [
    "#export\n",
    "def doc_link(name, include_bt=True):\n",
    "    \"Create link to documentation for `name`.\"\n",
    "    cname = f'`{name}`' if include_bt else name\n",
    "    try:\n",
    "        #Link to modules\n",
    "        if is_doc_name(name): return f\"[{cname}]({Config().doc_baseurl}{name}.html)\"\n",
    "        #Link to local functions\n",
    "        try_local = source_nb(name, is_name=True)\n",
    "        if try_local:\n",
    "            page = re_digits_first.sub('', try_local).replace('.ipynb', '')\n",
    "            return f'[{cname}]({Config().doc_baseurl}{page}.html#{name})'\n",
    "        ##Custom links\n",
    "        mod = get_nbdev_module()\n",
    "        link = mod.custom_doc_links(name)\n",
    "        return f'[{cname}]({link})' if link is not None else cname\n",
    "    except Exception as e: print(e); return cname"
   ]
  },
  {
   "cell_type": "markdown",
   "metadata": {},
   "source": [
    "This function will generate links for modules (pointing to the html conversion of the corresponding notebook) and functions (pointing to the html conversion of the notebook where they were defined, with the first anchor found before). If the function/module is not part of the library you are writing, it will call the function `custom_doc_links` generated in `_nbdev` (you can customize it to your needs) and just return the name between backticks if that function returns `None`.\n",
    "\n",
    "For instance, fastai has the following `custom_doc_links` that tries to find a doc link for `name` in fastcore then nbdev (in this order):\n",
    "``` python\n",
    "def custom_doc_links(name): \n",
    "    from nbdev.showdoc import try_external_doc_link\n",
    "    return try_external_doc_link(name, ['fastcore', 'nbdev'])\n",
    "```\n",
    "\n",
    "Please note that module links only work if your notebook names \"correspond\" to your module names:\n",
    "\n",
    "| Notebook name      | Doc name       | Module name | Module file  | Can doc link? |\n",
    "|--------------------|----------------|-------------|--------------|---------------|\n",
    "| export.ipynb       | export.html    | export      | export.py    | Yes           |\n",
    "| 00_export.ipynb    | export.html    | export      | export.py    | Yes           |\n",
    "| 00a_export.ipynb   | export.html    | export      | export.py    | Yes           |\n",
    "| export_1.ipynb     | export_1.html  | export      | export.py    | No            |\n",
    "| 03_data.core.ipynb | data.core.html | data.core   | data/core.py | Yes           |\n",
    "| 03_data_core.ipynb | data_core.html | data.core   | data/core.py | No            |"
   ]
  },
  {
   "cell_type": "code",
   "execution_count": 10,
   "metadata": {},
   "outputs": [],
   "source": [
    "test_eq(doc_link('export_scala'), f'[`export_scala`](/export_scala.html)')\n",
    "test_eq(doc_link('test_scala'), f'[`test_scala`](/test_scala.html)')\n",
    "test_eq(doc_link('sync_scala'), f'[`sync_scala`](/sync_scala.html)')\n",
    "test_eq(doc_link('test'), f'[`test`](/test.html)')\n",
    "test_eq(doc_link('Operator'), f'[`Operator`](/test.html#Operator)')\n",
    "test_eq(doc_link('FuncToNewScript'), f'[`FuncToNewScript`](/test.html#FuncToNewScript)')"
   ]
  },
  {
   "cell_type": "code",
   "execution_count": 11,
   "metadata": {},
   "outputs": [],
   "source": [
    "#export\n",
    "_re_backticks = re.compile(r\"\"\"\n",
    "# Catches any link of the form \\[`obj`\\](old_link) or just `obj`,\n",
    "#   to either update old links or add the link to the docs of obj\n",
    "\\[`      #     Opening [ and `\n",
    "([^`]*)  #     Catching group with anything but a `\n",
    "`\\]      #     ` then closing ]\n",
    "(?:      #     Beginning of non-catching group\n",
    "\\(       #       Opening (\n",
    "[^)]*    #       Anything but a closing )\n",
    "\\)       #       Closing )\n",
    ")        #     End of non-catching group\n",
    "|        # OR\n",
    "`        #     Opening `\n",
    "([^`]*)  #       Anything but a `\n",
    "`        #     Closing `\n",
    "\"\"\", re.VERBOSE)"
   ]
  },
  {
   "cell_type": "code",
   "execution_count": 12,
   "metadata": {},
   "outputs": [],
   "source": [
    "#export\n",
    "def add_doc_links(text, elt=None):\n",
    "    \"Search for doc links for any item between backticks in `text` and insert them\"\n",
    "    def _replace_link(m): \n",
    "        try: \n",
    "            if m.group(2) in inspect.signature(elt).parameters: return f'`{m.group(2)}`'\n",
    "        except: pass\n",
    "        return doc_link(m.group(1) or m.group(2))\n",
    "    return _re_backticks.sub(_replace_link, text)"
   ]
  },
  {
   "cell_type": "markdown",
   "metadata": {},
   "source": [
    "This function not only add links to backtick keywords, it also update the links that are already in the text (in case they have changed)."
   ]
  },
  {
   "cell_type": "code",
   "execution_count": 13,
   "metadata": {},
   "outputs": [],
   "source": [
    "tst = add_doc_links('This is an example of `Operator`')\n",
    "test_eq(tst, \"This is an example of [`Operator`](/test.html#Operator)\")\n",
    "tst = add_doc_links('This is an example of [`Operator`](old_link.html)')\n",
    "test_eq(tst, \"This is an example of [`Operator`](/test.html#Operator)\")"
   ]
  },
  {
   "cell_type": "markdown",
   "metadata": {},
   "source": [
    "As important as the source code, we want to quickly jump to where the function is defined when we are in a development notebook."
   ]
  },
  {
   "cell_type": "code",
   "execution_count": 18,
   "metadata": {},
   "outputs": [],
   "source": [
    "#export\n",
    "_re_header = re.compile(r\"\"\"\n",
    "# Catches any header in markdown with the title in group 1\n",
    "^\\s*  # Beginning of text followed by any number of whitespace\n",
    "\\#+   # One # or more\n",
    "\\s*   # Any number of whitespace\n",
    "(.*)  # Catching group with anything\n",
    "$     # End of text\n",
    "\"\"\", re.VERBOSE)"
   ]
  },
  {
   "cell_type": "code",
   "execution_count": 19,
   "metadata": {},
   "outputs": [],
   "source": [
    "#export\n",
    "def colab_link(path):\n",
    "    \"Get a link to the notebook at `path` on Colab\"\n",
    "    cfg = Config()\n",
    "    res = f'https://colab.research.google.com/github/{cfg.user}/{cfg.lib_name}/blob/{cfg.branch}/{cfg.path(\"nbs_path\").name}/{path}.ipynb'\n",
    "    display(Markdown(f'[Open `{path}` in Colab]({res})'))"
   ]
  },
  {
   "cell_type": "code",
   "execution_count": 22,
   "metadata": {},
   "outputs": [
    {
     "data": {
      "text/markdown": [
       "[Open `00_export_scala` in Colab](https://colab.research.google.com/github/ucsc-vama/chisel-nbdev/blob/master/nbs/00_export_scala.ipynb)"
      ],
      "text/plain": [
       "<IPython.core.display.Markdown object>"
      ]
     },
     "metadata": {},
     "output_type": "display_data"
    }
   ],
   "source": [
    "colab_link('00_export_scala')"
   ]
  },
  {
   "cell_type": "markdown",
   "metadata": {},
   "source": [
    "### Links to source"
   ]
  },
  {
   "cell_type": "code",
   "execution_count": 23,
   "metadata": {},
   "outputs": [],
   "source": [
    "#export\n",
    "def get_nb_source_link(func, local=False):\n",
    "    \"Return a link to the notebook where `func` is defined.\"\n",
    "#     func = _unwrapped_type_dispatch_func(func)\n",
    "    pref = '' if local else Config().git_url.replace('github.com', 'nbviewer.jupyter.org/github')+ Config().path(\"nbs_path\").name+'/'\n",
    "    src = source_nb(func, is_name=True, return_all=True)\n",
    "    if src is None: return '' \n",
    "    find_name,nb_name = src\n",
    "    nb = read_nb(nb_name)\n",
    "    pat = re.compile(f'^{find_name}\\s+=|^(def|class)\\s+{find_name}\\s*\\(', re.MULTILINE)\n",
    "    if len(find_name.split('.')) == 2:\n",
    "        clas,func = find_name.split('.')\n",
    "        print('lalalalal get_nb_source_link line 14')\n",
    "#         pat2 = re.compile(f'@patch\\s*\\ndef\\s+{func}\\s*\\([^:]*:\\s*{clas}\\s*(?:,|\\))')\n",
    "    else: pat2 = None\n",
    "    for i,cell in enumerate(nb['cells']):\n",
    "        if cell['cell_type'] == 'code':\n",
    "            if re.search(pat, cell['source']):  break\n",
    "            if pat2 is not None and re.search(pat2, cell['source']): break\n",
    "    if re.search(pat, cell['source']) is None and (pat2 is not None and re.search(pat2, cell['source']) is None):\n",
    "        return '' \n",
    "    header_pat = re.compile(r'^\\s*#+\\s*(.*)$')\n",
    "    while i >= 0:\n",
    "        cell = nb['cells'][i]\n",
    "        if cell['cell_type'] == 'markdown' and _re_header.search(cell['source']):\n",
    "            title = _re_header.search(cell['source']).groups()[0]\n",
    "            anchor = '-'.join([s for s in title.split(' ') if len(s) > 0])\n",
    "            return f'{pref}{nb_name}#{anchor}'\n",
    "        i-=1\n",
    "    return f'{pref}{nb_name}'"
   ]
  },
  {
   "cell_type": "code",
   "execution_count": 30,
   "metadata": {},
   "outputs": [
    {
     "data": {
      "text/plain": [
       "'ToImport.ipynb'"
      ]
     },
     "execution_count": 30,
     "metadata": {},
     "output_type": "execute_result"
    }
   ],
   "source": [
    "get_nb_source_link(\"Operator\", local=True)\n",
    "# get_nb_source_link(\"Add\", local=True)"
   ]
  },
  {
   "cell_type": "markdown",
   "metadata": {},
   "source": [
    "You can pass a func name based as a string. `local` will return a local link, otherwise it will point to a the notebook on Google Colab."
   ]
  },
  {
   "cell_type": "code",
   "execution_count": 31,
   "metadata": {},
   "outputs": [],
   "source": [
    "#export\n",
    "def nb_source_link(func, disp=True, local=True):\n",
    "    \"Show a relative link to the notebook where `func` is defined\"\n",
    "    link = get_nb_source_link(func, local=local)\n",
    "    text = func if local else f'{func} (GitHub)'\n",
    "    if disp: display(Markdown(f'[{text}]({link})'))\n",
    "    else: return link"
   ]
  },
  {
   "cell_type": "markdown",
   "metadata": {},
   "source": [
    "This function assumes you are in one notebook in the development folder, otherwise you can use `disp=False` to get the relative link. "
   ]
  },
  {
   "cell_type": "code",
   "execution_count": 40,
   "metadata": {},
   "outputs": [],
   "source": [
    "# test_eq(nb_source_link('check_re', disp=False), f'00_export.ipynb#Finding-patterns')\n",
    "test_eq(nb_source_link(\"Operator\", local=True, disp=False), f'test.ipynb#Here-multiple-methods-will-be-injected')\n",
    "test_eq(nb_source_link(\"Add\", local=True, disp=False), f'ToImport.ipynb')"
   ]
  },
  {
   "cell_type": "markdown",
   "metadata": {},
   "source": [
    "## Show documentation"
   ]
  },
  {
   "cell_type": "code",
   "execution_count": 32,
   "metadata": {},
   "outputs": [],
   "source": [
    "#export\n",
    "from fastcore.script import Param"
   ]
  },
  {
   "cell_type": "code",
   "execution_count": null,
   "metadata": {},
   "outputs": [],
   "source": []
  },
  {
   "cell_type": "code",
   "execution_count": null,
   "metadata": {},
   "outputs": [],
   "source": []
  }
 ],
 "metadata": {
  "kernelspec": {
   "display_name": "Python 3",
   "language": "python",
   "name": "python3"
  },
  "language_info": {
   "codemirror_mode": {
    "name": "ipython",
    "version": 3
   },
   "file_extension": ".py",
   "mimetype": "text/x-python",
   "name": "python",
   "nbconvert_exporter": "python",
   "pygments_lexer": "ipython3",
   "version": "3.8.2"
  }
 },
 "nbformat": 4,
 "nbformat_minor": 4
}
