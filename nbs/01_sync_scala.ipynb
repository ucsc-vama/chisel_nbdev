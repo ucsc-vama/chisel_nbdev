{
 "cells": [
  {
   "cell_type": "code",
   "execution_count": 1,
   "metadata": {},
   "outputs": [],
   "source": [
    "#hide\n",
    "#default_exp sync\n",
    "#default_cls_lvl 3\n",
    "from nbdev.showdoc import show_doc"
   ]
  },
  {
   "cell_type": "code",
   "execution_count": 2,
   "metadata": {},
   "outputs": [],
   "source": [
    "#export\n",
    "from nbdev.imports import *\n",
    "# from nbdev.export import *\n",
    "from fastcore.script import *\n",
    "import nbformat\n",
    "from nbformat.sign import NotebookNotary"
   ]
  },
  {
   "cell_type": "code",
   "execution_count": 3,
   "metadata": {},
   "outputs": [],
   "source": [
    "import sys\n",
    "import os\n",
    "\n",
    "SCRIPT_DIR = os.path.dirname(os.getcwd()) + '/nbdev'\n",
    "sys.path.append(os.path.normpath(SCRIPT_DIR))\n",
    "from export_scala import *"
   ]
  },
  {
   "cell_type": "markdown",
   "metadata": {},
   "source": [
    "# Synchronize and diff\n",
    "\n",
    "> The functions that propagates small changes in the library back to notebooks\n",
    "\n"
   ]
  },
  {
   "cell_type": "markdown",
   "metadata": {},
   "source": [
    "The library is primarily developed in notebooks so any big changes should be made there. But sometimes, it's easier to fix small bugs or typos in the modules directly. `nbdev_update_lib` is the function that will propagate those changes back to the corresponding notebooks. Note that you can't create new cells with that functionality, so your corrections should remain limited."
   ]
  },
  {
   "cell_type": "markdown",
   "metadata": {},
   "source": [
    "## Finding the way back to notebooks"
   ]
  },
  {
   "cell_type": "markdown",
   "metadata": {},
   "source": [
    "We need to get the name of the object we are looking for, and then we'll try to find it in our index file."
   ]
  },
  {
   "cell_type": "code",
   "execution_count": 4,
   "metadata": {},
   "outputs": [],
   "source": [
    "#export\n",
    "def _get_property_name(p):\n",
    "    \"Get the name of property `p`\"\n",
    "    if hasattr(p, 'fget'):\n",
    "        return p.fget.func.__qualname__ if hasattr(p.fget, 'func') else p.fget.__qualname__\n",
    "    else: return next(iter(re.findall(r'\\'(.*)\\'', str(p)))).split('.')[-1]\n",
    "\n",
    "def get_name(obj):\n",
    "    \"Get the name of `obj`\"\n",
    "    if hasattr(obj, '__name__'):       return obj.__name__\n",
    "    elif getattr(obj, '_name', False): return obj._name\n",
    "    elif hasattr(obj,'__origin__'):    return str(obj.__origin__).split('.')[-1] #for types\n",
    "    elif type(obj)==property:          return _get_property_name(obj)\n",
    "    else:                              return str(obj).split('.')[-1]"
   ]
  },
  {
   "cell_type": "code",
   "execution_count": 5,
   "metadata": {},
   "outputs": [],
   "source": [
    "from nbdev.export import DocsTestClass"
   ]
  },
  {
   "cell_type": "code",
   "execution_count": 6,
   "metadata": {},
   "outputs": [],
   "source": [
    "test_eq(get_name(in_ipython), 'in_ipython')\n",
    "test_eq(get_name(DocsTestClass.test), 'test')"
   ]
  },
  {
   "cell_type": "code",
   "execution_count": 7,
   "metadata": {},
   "outputs": [],
   "source": [
    "#export\n",
    "def qual_name(obj):\n",
    "    \"Get the qualified name of `obj`\"\n",
    "    if hasattr(obj,'__qualname__'): return obj.__qualname__\n",
    "    if inspect.ismethod(obj):       return f\"{get_name(obj.__self__)}.{get_name(fn)}\"\n",
    "    return get_name(obj)"
   ]
  },
  {
   "cell_type": "code",
   "execution_count": 8,
   "metadata": {},
   "outputs": [],
   "source": [
    "test_eq(qual_name(DocsTestClass.test), 'DocsTestClass.test')"
   ]
  },
  {
   "cell_type": "code",
   "execution_count": 9,
   "metadata": {},
   "outputs": [],
   "source": [
    "#export\n",
    "def source_nb(func, is_name=None, return_all=False, mod=None):\n",
    "    \"Return the name of the notebook where `func` was defined\"\n",
    "    is_name = is_name or isinstance(func, str)\n",
    "    if mod is None: mod = get_nbdev_module()\n",
    "    index = mod.index\n",
    "    name = func if is_name else qual_name(func)\n",
    "    while len(name) > 0:\n",
    "        if name in index: return (name,index[name]) if return_all else index[name]\n",
    "        name = '.'.join(name.split('.')[:-1])"
   ]
  },
  {
   "cell_type": "markdown",
   "metadata": {},
   "source": [
    "You can either pass an object or its name (by default `is_name` will look if `func` is a string or not to determine if it should be `True` or `False`, but you can override if there is some inconsistent behavior). \n",
    "\n",
    "If passed a method of a class, the function will return the notebook in which the largest part of the function name was defined in case there is a monkey-matching that defines `class.method` in a different notebook than `class`. If `return_all=True`, the function will return a tuple with the name by which the function was found and the notebook.\n",
    "\n",
    "For properties defined using `property` or our own `add_props` helper, we approximate the name by looking at their getter functions, since we don't seem to have access to the property name itself. If everything fails (a getter cannot be found), we return the name of the object that contains the property. This suffices for `source_nb` to work."
   ]
  },
  {
   "cell_type": "code",
   "execution_count": 10,
   "metadata": {},
   "outputs": [],
   "source": [
    "test_eq(source_nb(\"Add\"), 'test.ipynb')\n",
    "test_eq(source_nb(\"Operator\"), 'test.ipynb')\n",
    "test_eq(source_nb(\"MulDiv\"), 'test.ipynb')\n",
    "assert source_nb(int) is None"
   ]
  },
  {
   "cell_type": "markdown",
   "metadata": {},
   "source": [
    "## Reading the library"
   ]
  },
  {
   "cell_type": "markdown",
   "metadata": {},
   "source": [
    "If someone decides to change a module instead of the notebooks, the following functions help update the notebooks accordingly."
   ]
  },
  {
   "cell_type": "code",
   "execution_count": 11,
   "metadata": {},
   "outputs": [],
   "source": [
    "#export\n",
    "_re_cell = re.compile(r'^// Cell|^// Internal Cell|^// Comes from\\s+(\\S+), cell')"
   ]
  },
  {
   "cell_type": "code",
   "execution_count": 12,
   "metadata": {},
   "outputs": [],
   "source": [
    "#export\n",
    "def _split(code):\n",
    "    lines = code.split('\\n')\n",
    "    nbs_path = Config().path(\"nbs_path\").relative_to(Config().config_file.parent)\n",
    "    prefix = '' if nbs_path == Path('.') else f'{nbs_path}/'\n",
    "    default_nb = re.search(f'File to edit: {prefix}(\\\\S+)\\\\s+', lines[0]).groups()[0]\n",
    "    s,res = 1,[]\n",
    "    while _re_cell.search(lines[s]) is None: s += 1\n",
    "    e = s+1\n",
    "    while e < len(lines):\n",
    "        while e < len(lines) and _re_cell.search(lines[e]) is None: e += 1\n",
    "        grps = _re_cell.search(lines[s]).groups()\n",
    "        nb = grps[0] or default_nb\n",
    "        content = lines[s+1:e]\n",
    "        while len(content) > 1 and content[-1] == '': content = content[:-1]\n",
    "        res.append((nb, '\\n'.join(content)))\n",
    "        s,e = e,e+1\n",
    "    return res"
   ]
  },
  {
   "cell_type": "code",
   "execution_count": 17,
   "metadata": {},
   "outputs": [],
   "source": [
    "#export\n",
    "def _script2notebook(fname, dic, silent=False):\n",
    "    \"Put the content of `fname` back in the notebooks it came from.\"\n",
    "    if os.environ.get('IN_TEST',0): return  # don't export if running tests\n",
    "    fname = Path(fname)\n",
    "    with open(fname, encoding='utf8') as f: code = f.read()\n",
    "    splits = _split(code)\n",
    "    rel_name = fname.absolute().resolve().relative_to(Config().path(\"lib_path\"))\n",
    "    key = str(rel_name.with_suffix(''))\n",
    "    assert len(splits)==len(dic[key]), f'\"{rel_name}\" exported from notebooks should have {len(dic[key])} cells but has {len(splits)}.'\n",
    "    assert all([c1[0]==c2[1]] for c1,c2 in zip(splits, dic[key]))\n",
    "    splits = [(c2[0],c1[0],c1[1]) for c1,c2 in zip(splits, dic[key])]\n",
    "    nb_fnames = {Config().path(\"nbs_path\")/s[1] for s in splits}\n",
    "    for nb_fname in nb_fnames:\n",
    "        nb = read_nb(nb_fname)\n",
    "        for i,f,c in splits:\n",
    "#             c = _deal_loc_import(c, str(fname))\n",
    "            if f == nb_fname.name:\n",
    "                flags = split_flags_and_code(nb['cells'][i], str)[0]\n",
    "                nb['cells'][i]['source'] = flags + '\\n' + c\n",
    "#                 nb['cells'][i]['source'] = flags + '\\n' + c.replace('', '')\n",
    "        NotebookNotary().sign(nb)\n",
    "        nbformat.write(nb, str(nb_fname), version=4)\n",
    "\n",
    "    if not silent: print(f\"Converted {rel_name}.\")"
   ]
  },
  {
   "cell_type": "code",
   "execution_count": 18,
   "metadata": {},
   "outputs": [
    {
     "name": "stdout",
     "output_type": "stream",
     "text": [
      "Converted test.sc.\n"
     ]
    }
   ],
   "source": [
    "#hide\n",
    "dic = scala_notebook2script(silent=True, to_dict=True)\n",
    "_script2notebook(Config().path(\"lib_path\")/'test.sc', dic)"
   ]
  },
  {
   "cell_type": "code",
   "execution_count": 15,
   "metadata": {},
   "outputs": [],
   "source": [
    "#export\n",
    "@call_parse\n",
    "def nbdev_update_lib(fname:Param(\"A python filename or glob to convert\", str)=None,\n",
    "                     silent:Param(\"Don't print results\", bool_arg)=False):\n",
    "    \"Propagates any change in the modules matching `fname` to the notebooks that created them\"\n",
    "#     if fname.endswith('.ipynb'): raise ValueError(\"`nbdev_update_lib` operates on .py files.  If you wish to convert notebooks instead, see `nbdev_build_lib`.\")\n",
    "    if os.environ.get('IN_TEST',0): return\n",
    "    dic = scala_notebook2script(silent=True, to_dict=True)\n",
    "    exported = get_nbdev_module().modules\n",
    "    print(exported)\n",
    "\n",
    "    if fname is None:\n",
    "        files = [f for f in Config().path(\"lib_path\").glob('**/*.py') if str(f.relative_to(Config().path(\"lib_path\"))) in exported]\n",
    "    else: files = glob.glob(fname)\n",
    "    [ _script2notebook(f, dic, silent=silent) for f in files]"
   ]
  },
  {
   "cell_type": "markdown",
   "metadata": {},
   "source": [
    "If `fname` is not specified, this will convert all modules and submodules in the `lib_folder` defined in `setting.ini`. Otherwise `fname` can be a single filename or a glob expression.\n",
    "\n",
    "`silent` makes the command not print any statement. "
   ]
  },
  {
   "cell_type": "code",
   "execution_count": 16,
   "metadata": {},
   "outputs": [
    {
     "name": "stdout",
     "output_type": "stream",
     "text": [
      "['ModA.sc', 'ModB.sc', 'ModC.sc', 'test.sc']\n"
     ]
    }
   ],
   "source": [
    "#hide\n",
    "nbdev_update_lib()"
   ]
  },
  {
   "cell_type": "code",
   "execution_count": null,
   "metadata": {},
   "outputs": [],
   "source": []
  }
 ],
 "metadata": {
  "kernelspec": {
   "display_name": "Python 3",
   "language": "python",
   "name": "python3"
  },
  "language_info": {
   "codemirror_mode": {
    "name": "ipython",
    "version": 3
   },
   "file_extension": ".py",
   "mimetype": "text/x-python",
   "name": "python",
   "nbconvert_exporter": "python",
   "pygments_lexer": "ipython3",
   "version": "3.8.2"
  }
 },
 "nbformat": 4,
 "nbformat_minor": 4
}
