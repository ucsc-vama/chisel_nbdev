{
 "cells": [
  {
   "cell_type": "code",
   "execution_count": null,
   "metadata": {},
   "outputs": [],
   "source": [
    "//default_exp ModC"
   ]
  },
  {
   "cell_type": "markdown",
   "metadata": {},
   "source": [
    "This is the top level module, that imports -> import_chisel_mod which imports -> ToImport. This collection of notebooks and .sc files are meant to demonstrate how to do chisel development in a notebook environment, particularly how to import the modules implemented in one notebook to another."
   ]
  },
  {
   "cell_type": "markdown",
   "metadata": {},
   "source": [
    "### Import the module we defined in import_chisel_mod.ipynb renamed to -> ModB.sc"
   ]
  },
  {
   "cell_type": "code",
   "execution_count": 1,
   "metadata": {},
   "outputs": [
    {
     "name": "stdout",
     "output_type": "stream",
     "text": [
      "Compiling /Users/jasonvranek/code/notebooks/chisel-nbdev/nbdev/ModB.sc[\u001b[35minfo\u001b[0m] [0.002] Elaborating design...\n",
      "[\u001b[35minfo\u001b[0m] [1.576] Done elaborating.\n",
      "file loaded in 0.046689542 seconds, 7 symbols, 3 statements\n",
      "test Add Success: 0 tests passed in 4 cycles in 0.069917 seconds 57.21 Hz\n",
      "[\u001b[35minfo\u001b[0m] [0.001] Elaborating design...\n",
      "[\u001b[35minfo\u001b[0m] [0.220] Done elaborating.\n",
      "file loaded in 0.006307083 seconds, 13 symbols, 7 statements\n",
      "test ComposedModule Success: 0 tests passed in 4 cycles in 0.011610 seconds 344.54 Hz\n"
     ]
    },
    {
     "data": {
      "text/plain": [
       "\u001b[32mimport \u001b[39m\u001b[36m$file.$           , ModB._\u001b[39m"
      ]
     },
     "execution_count": 1,
     "metadata": {},
     "output_type": "execute_result"
    }
   ],
   "source": [
    "//export\n",
    "import $file.^.nbdev.ModB, ModB._"
   ]
  },
  {
   "cell_type": "code",
   "execution_count": 2,
   "metadata": {},
   "outputs": [
    {
     "data": {
      "text/plain": [
       "\u001b[32mimport \u001b[39m\u001b[36m$file.$                \u001b[39m"
      ]
     },
     "execution_count": 2,
     "metadata": {},
     "output_type": "execute_result"
    }
   ],
   "source": [
    "//export\n",
    "import $file.^.source.load_ivy"
   ]
  },
  {
   "cell_type": "code",
   "execution_count": 3,
   "metadata": {},
   "outputs": [
    {
     "data": {
      "text/plain": [
       "\u001b[32mimport \u001b[39m\u001b[36mchisel3.{Input => Input}\n",
       "\u001b[39m\n",
       "\u001b[32mimport \u001b[39m\u001b[36mchisel3._\n",
       "\u001b[39m\n",
       "\u001b[32mimport \u001b[39m\u001b[36mchisel3.util._\n",
       "\u001b[39m\n",
       "\u001b[32mimport \u001b[39m\u001b[36mchisel3.tester._\n",
       "\u001b[39m\n",
       "\u001b[32mimport \u001b[39m\u001b[36mchisel3.iotesters.{ChiselFlatSpec, Driver, PeekPokeTester}\n",
       "\u001b[39m\n",
       "\u001b[32mimport \u001b[39m\u001b[36mchisel3.tester.RawTester.test\u001b[39m"
      ]
     },
     "execution_count": 3,
     "metadata": {},
     "output_type": "execute_result"
    }
   ],
   "source": [
    "//export\n",
    "import chisel3.{Input => Input}\n",
    "import chisel3._\n",
    "import chisel3.util._\n",
    "import chisel3.tester._\n",
    "import chisel3.iotesters.{ChiselFlatSpec, Driver, PeekPokeTester}\n",
    "import chisel3.tester.RawTester.test"
   ]
  },
  {
   "cell_type": "code",
   "execution_count": 5,
   "metadata": {},
   "outputs": [
    {
     "data": {
      "text/plain": [
       "defined \u001b[32mclass\u001b[39m \u001b[36mDoubleComposedMod\u001b[39m"
      ]
     },
     "execution_count": 5,
     "metadata": {},
     "output_type": "execute_result"
    }
   ],
   "source": [
    "//export\n",
    "class DoubleComposedMod extends Module {\n",
    "    val io = IO(new Bundle {\n",
    "        val in = Input(UInt(4.W))\n",
    "        val out = Output(UInt(4.W))\n",
    "    })\n",
    "    \n",
    "    val composed = Module(new ComposedModule)\n",
    "    composed.io.a := 1.U\n",
    "    composed.io.b := 2.U\n",
    "    composed.io.c := 3.U\n",
    "    \n",
    "    io.out := composed.io.out + io.in\n",
    "}"
   ]
  },
  {
   "cell_type": "code",
   "execution_count": 6,
   "metadata": {},
   "outputs": [
    {
     "name": "stdout",
     "output_type": "stream",
     "text": [
      "[\u001b[35minfo\u001b[0m] [0.001] Elaborating design...\n",
      "[\u001b[35minfo\u001b[0m] [0.158] Done elaborating.\n",
      "file loaded in 0.005069792 seconds, 6 symbols, 3 statements\n",
      "test DoubleComposedMod Success: 0 tests passed in 4 cycles in 0.030426 seconds 131.47 Hz\n"
     ]
    }
   ],
   "source": [
    "test(new DoubleComposedMod) { c => \n",
    "    c.io.in.poke(1.U)    \n",
    "    c.clock.step(1)    \n",
    "    c.io.out.expect(7.U)\n",
    "    \n",
    "    c.io.in.poke(5.U)    \n",
    "    c.clock.step(1)    \n",
    "    c.io.out.expect(11.U)\n",
    "}"
   ]
  },
  {
   "cell_type": "code",
   "execution_count": null,
   "metadata": {},
   "outputs": [],
   "source": []
  }
 ],
 "metadata": {
  "kernelspec": {
   "display_name": "Scala",
   "language": "scala",
   "name": "scala"
  },
  "language_info": {
   "codemirror_mode": "text/x-scala",
   "file_extension": ".scala",
   "mimetype": "text/x-scala",
   "name": "scala",
   "nbconvert_exporter": "script",
   "version": "2.12.10"
  }
 },
 "nbformat": 4,
 "nbformat_minor": 4
}
