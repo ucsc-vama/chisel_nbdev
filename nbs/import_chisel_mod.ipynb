{
 "cells": [
  {
   "cell_type": "code",
   "execution_count": null,
   "metadata": {},
   "outputs": [],
   "source": [
    "//export\n",
    "//default_exp ModB"
   ]
  },
  {
   "cell_type": "markdown",
   "metadata": {},
   "source": [
    "### Import the module we defined in ToImport.ipynb renamed to -> ModA.sc"
   ]
  },
  {
   "cell_type": "code",
   "execution_count": 1,
   "metadata": {},
   "outputs": [
    {
     "data": {
      "text/plain": [
       "\u001b[32mimport \u001b[39m\u001b[36m$file.$           , ModA._\u001b[39m"
      ]
     },
     "execution_count": 1,
     "metadata": {},
     "output_type": "execute_result"
    }
   ],
   "source": [
    "//export\n",
    "import $file.^.nbdev.ModA, ModA._"
   ]
  },
  {
   "cell_type": "markdown",
   "metadata": {},
   "source": [
    "### Call the load_ivy script.\n",
    "Located in the source folder, the load_ivy.sc script will use ammonite to download snapshots of the chisel libraries, to be cached on your system. This is necessary for EVERY chisel notebook so we can then import our chisel libraries like we would in an SBT project structure."
   ]
  },
  {
   "cell_type": "code",
   "execution_count": 2,
   "metadata": {},
   "outputs": [
    {
     "data": {
      "text/plain": [
       "\u001b[32mimport \u001b[39m\u001b[36m$file.$                \u001b[39m"
      ]
     },
     "execution_count": 2,
     "metadata": {},
     "output_type": "execute_result"
    }
   ],
   "source": [
    "//export\n",
    "import $file.^.source.load_ivy"
   ]
  },
  {
   "cell_type": "markdown",
   "metadata": {},
   "source": [
    "### Prevent namespace error\n",
    "- To prevent an ambiguous reference to 'Input' by chisel3.Input and _root_.almond.input.Input, we have to make sure that we rename our chisel3 Input on import. It suffices to do as follows without requiring to change the name to something like IInput:\n",
    "```scala\n",
    "import chisel3.{Input => Input} \n",
    "```"
   ]
  },
  {
   "cell_type": "code",
   "execution_count": 3,
   "metadata": {},
   "outputs": [
    {
     "data": {
      "text/plain": [
       "\u001b[32mimport \u001b[39m\u001b[36mchisel3.{Input => Input}\n",
       "\u001b[39m\n",
       "\u001b[32mimport \u001b[39m\u001b[36mchisel3._\n",
       "\u001b[39m\n",
       "\u001b[32mimport \u001b[39m\u001b[36mchisel3.util._\n",
       "\u001b[39m\n",
       "\u001b[32mimport \u001b[39m\u001b[36mchisel3.tester._\n",
       "\u001b[39m\n",
       "\u001b[32mimport \u001b[39m\u001b[36mchisel3.iotesters.{ChiselFlatSpec, Driver, PeekPokeTester}\n",
       "\u001b[39m\n",
       "\u001b[32mimport \u001b[39m\u001b[36mchisel3.tester.RawTester.test\u001b[39m"
      ]
     },
     "execution_count": 3,
     "metadata": {},
     "output_type": "execute_result"
    }
   ],
   "source": [
    "//export\n",
    "import chisel3.{Input => Input}\n",
    "import chisel3._\n",
    "import chisel3.util._\n",
    "import chisel3.tester._\n",
    "import chisel3.iotesters.{ChiselFlatSpec, Driver, PeekPokeTester}\n",
    "import chisel3.tester.RawTester.test"
   ]
  },
  {
   "cell_type": "markdown",
   "metadata": {},
   "source": [
    "### Importing chisel modules from .sc files\n",
    "To import the scripts contents as a single object do:\n",
    "```scala\n",
    "import $file.filename\n",
    "filename.Blah()\n",
    "```\n",
    "\n",
    "To import all of the scripts contents do:\n",
    "```scala\n",
    "import $file.filename, filename._\n",
    "Blah()\n",
    "```\n"
   ]
  },
  {
   "cell_type": "markdown",
   "metadata": {},
   "source": [
    "We can now try and test our module to see if we imported it correctly:"
   ]
  },
  {
   "cell_type": "code",
   "execution_count": 4,
   "metadata": {},
   "outputs": [
    {
     "name": "stdout",
     "output_type": "stream",
     "text": [
      "[\u001b[35minfo\u001b[0m] [0.001] Elaborating design...\n",
      "[\u001b[35minfo\u001b[0m] [1.297] Done elaborating.\n",
      "file loaded in 0.035916667 seconds, 7 symbols, 3 statements\n",
      "test Add Success: 0 tests passed in 4 cycles in 0.051422 seconds 77.79 Hz\n"
     ]
    }
   ],
   "source": [
    "test(new Add) { c =>\n",
    "    c.io.a.poke(1.U)    \n",
    "    c.io.b.poke(2.U)    \n",
    "    c.clock.step(1)    \n",
    "    c.io.out.expect(3.U)\n",
    "    \n",
    "    c.io.a.poke(5.U)    \n",
    "    c.io.b.poke(2.U)    \n",
    "    c.clock.step(1)    \n",
    "    c.io.out.expect(7.U)\n",
    "}"
   ]
  },
  {
   "cell_type": "markdown",
   "metadata": {},
   "source": [
    "Lets use this module to build another module:"
   ]
  },
  {
   "cell_type": "code",
   "execution_count": 5,
   "metadata": {},
   "outputs": [
    {
     "data": {
      "text/plain": [
       "defined \u001b[32mclass\u001b[39m \u001b[36mComposedModule\u001b[39m"
      ]
     },
     "execution_count": 5,
     "metadata": {},
     "output_type": "execute_result"
    }
   ],
   "source": [
    "//export\n",
    "class ComposedModule extends Module {\n",
    "    val io = IO(new Bundle {\n",
    "        val a = Input(UInt(4.W))\n",
    "        val b = Input(UInt(4.W))\n",
    "        val c = Input(UInt(4.W))\n",
    "        val out = Output(UInt(4.W))\n",
    "    })\n",
    "    val addr = Module(new Add)\n",
    "    addr.io.a := io.a\n",
    "    addr.io.b := io.b\n",
    "    io.out := addr.io.out + io.c\n",
    "}"
   ]
  },
  {
   "cell_type": "code",
   "execution_count": 6,
   "metadata": {},
   "outputs": [
    {
     "name": "stdout",
     "output_type": "stream",
     "text": [
      "[\u001b[35minfo\u001b[0m] [0.001] Elaborating design...\n",
      "[\u001b[35minfo\u001b[0m] [0.180] Done elaborating.\n",
      "file loaded in 0.007460458 seconds, 13 symbols, 7 statements\n",
      "test ComposedModule Success: 0 tests passed in 4 cycles in 0.014604 seconds 273.90 Hz\n"
     ]
    }
   ],
   "source": [
    "test(new ComposedModule) { c =>\n",
    "    c.io.a.poke(1.U)    \n",
    "    c.io.b.poke(2.U)    \n",
    "    c.io.c.poke(3.U)    \n",
    "    c.clock.step(1)    \n",
    "    c.io.out.expect(6.U)\n",
    "    \n",
    "    c.io.a.poke(5.U)    \n",
    "    c.io.b.poke(2.U)    \n",
    "    c.io.c.poke(7.U)    \n",
    "    c.clock.step(1)    \n",
    "    c.io.out.expect(14.U)\n",
    "}"
   ]
  },
  {
   "cell_type": "code",
   "execution_count": null,
   "metadata": {},
   "outputs": [],
   "source": []
  }
 ],
 "metadata": {
  "kernelspec": {
   "display_name": "Scala",
   "language": "scala",
   "name": "scala"
  },
  "language_info": {
   "codemirror_mode": "text/x-scala",
   "file_extension": ".scala",
   "mimetype": "text/x-scala",
   "name": "scala",
   "nbconvert_exporter": "script",
   "version": "2.12.10"
  }
 },
 "nbformat": 4,
 "nbformat_minor": 4
}
