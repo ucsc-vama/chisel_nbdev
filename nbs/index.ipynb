{
 "cells": [
  {
   "cell_type": "markdown",
   "metadata": {},
   "source": [
    "# chisel-nbdev\n",
    "> The goal of this repo is to provide a seamless way to develop Chisel code in a Jupyter Notebook environment."
   ]
  },
  {
   "cell_type": "markdown",
   "metadata": {},
   "source": [
    "## Requirements (mac)\n",
    "- setup some virtualenv (im using python3.8.2)\n",
    "- ```pip install virtualenv```\n",
    "- find your python3 binary: ```which python3``` which for me is ```/usr/local/bin/python3```\n",
    "- create virtualenv: ```python3 -m virtualenv --python=/usr/local/bin/python3 chisel_nb_env```\n",
    "- activate it: ```source chisel_nb_env/bin/activate```\n",
    "- install jupyterlab (which includes jupyter notebook): ```pip install jupyterlab```## Requirements (mac)\n",
    "- setup some virtualenv (im using python3.8.2)\n",
    "- ```pip install virtualenv```\n",
    "- find your python3 binary: ```which python3``` which for me is ```/usr/local/bin/python3```\n",
    "- create virtualenv: ```python3 -m virtualenv --python=/usr/local/bin/python3 chisel_nb_env```\n",
    "- activate it: ```source chisel_nb_env/bin/activate```\n",
    "- install jupyterlab (which includes jupyter notebook): ```pip install jupyterlab```"
   ]
  },
  {
   "cell_type": "markdown",
   "metadata": {},
   "source": [
    "### Setup the Jupyter Scala kernel Almond (https://almond.sh) \n",
    "- Borrowed from the Chisel-Bootcamp install guide: https://github.com/freechipsproject/chisel-bootcamp/blob/master/Install.md\n",
    "- If you experience errors or issues with this section, try running rm -rf ~/.local/share/jupyter/kernels/scala/ first.\n",
    "- Next, download coursier (our dependency manager) and use it to install almond (our kernel wrapped around Ammonite) (see here for the source for these instructions):\n",
    "```\n",
    "curl -L -o coursier https://git.io/coursier-cli && chmod +x coursier\n",
    "SCALA_VERSION=2.12.10 ALMOND_VERSION=0.9.1\n",
    "./coursier bootstrap -r jitpack \\\n",
    "    -i user -I user:sh.almond:scala-kernel-api_$SCALA_VERSION:$ALMOND_VERSION \\\n",
    "    sh.almond:scala-kernel_$SCALA_VERSION:$ALMOND_VERSION \\\n",
    "    --sources --default=true \\\n",
    "    -o almond\n",
    "./almond --install\n",
    "```\n",
    "- You can delete coursier and almond files if you so desire."
   ]
  },
  {
   "cell_type": "markdown",
   "metadata": {},
   "source": [
    "### Start JupyterLab\n",
    "- Making sure you are in your virtualenv then run: ```jupyter lab```"
   ]
  },
  {
   "cell_type": "markdown",
   "metadata": {},
   "source": [
    "### Project Structure\n",
    "- By default, notebook source files (.ipynb) will live in the ```nbs``` folder.\n",
    "- Upon running ```notebook2script()``` the notebooks in ```nbs``` will export code to ```.sc``` files in the ```nbdev``` folder. These are auto-generated files that can be imported back into notebooks via Ammonite: For example ```import $file.MyMod, MyMod._``` imports the contents of the file ```MyMod.sc```."
   ]
  },
  {
   "cell_type": "markdown",
   "metadata": {},
   "source": [
    "### Testing Notebooks\n",
    "- Currently can run ```nbdev_test_nbs('MyMod.ipynb')``` to run all of the tests contained in the ```MyMod.ipynb``` notebook. \n",
    "- Tests are identified by either omitting any export flags (```//export```) or by including special flags defined in ```settings.ini``` (i.e ```//slowtest``` or ```chiseltest```)."
   ]
  },
  {
   "cell_type": "markdown",
   "metadata": {},
   "source": [
    "### settings.ini\n",
    "- Configurations belong in this file."
   ]
  },
  {
   "cell_type": "code",
   "execution_count": null,
   "metadata": {},
   "outputs": [],
   "source": []
  }
 ],
 "metadata": {
  "kernelspec": {
   "display_name": "Scala",
   "language": "scala",
   "name": "scala"
  }
 },
 "nbformat": 4,
 "nbformat_minor": 4
}
